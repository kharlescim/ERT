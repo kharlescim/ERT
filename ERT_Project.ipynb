{
  "nbformat": 4,
  "nbformat_minor": 0,
  "metadata": {
    "colab": {
      "provenance": [],
      "gpuType": "T4",
      "authorship_tag": "ABX9TyODOgowdbc9i/h7X+JHFMo1",
      "include_colab_link": true
    },
    "kernelspec": {
      "name": "python3",
      "display_name": "Python 3"
    },
    "language_info": {
      "name": "python"
    },
    "accelerator": "GPU"
  },
  "cells": [
    {
      "cell_type": "markdown",
      "metadata": {
        "id": "view-in-github",
        "colab_type": "text"
      },
      "source": [
        "<a href=\"https://colab.research.google.com/github/kharlescim/ERT_Project/blob/main/ERT_Project.ipynb\" target=\"_parent\"><img src=\"https://colab.research.google.com/assets/colab-badge.svg\" alt=\"Open In Colab\"/></a>"
      ]
    },
    {
      "cell_type": "markdown",
      "source": [
        "## **Colab Purpose**\n",
        "This colab will mainly be used for documenting my thoughts and manipulating the datasets using xarray, as it's easier to quickly visualize and print information from the datasets in this environment. However, training the model on colab takes wayyy too much RAM, enough to crash after just one epoch. As such, training will be done on a different .py file in the repo, although the code will still be written here. For now, all my thoughts and documentation, including on the training done from my machine, will be here. the .py code is just to run the model."
      ],
      "metadata": {
        "id": "CweBIi78uYQM"
      }
    },
    {
      "cell_type": "markdown",
      "source": [
        "# 7/7 Update <br>\n",
        "updated cleaning, flattening, and merging of SPEI and LTD datasets so I could train the model on the spei data <br>\n",
        "the model got a much higher accuracy at .71, but the accuracy plateaued at the very first epoch and no different results were had in the subsequent epochs <br>\n",
        "also the epochs take over 2 minutes - probably because theres millions of samples to be tested\n",
        "TODO: <br>\n",
        "add obs.nc data to model for testing, figure out why accuracy isn't going up"
      ],
      "metadata": {
        "id": "49wQppN4gDGa"
      }
    },
    {
      "cell_type": "markdown",
      "source": [
        "# Analyzing, Cleaning, and Visualizing Datasets (6/27 - 7/3)\n",
        "In this task, I was asked to clean these datasets, and ensure that they were all in a similar format that we could easily train a model on their combined data."
      ],
      "metadata": {
        "id": "x1Ullqt71_L4"
      }
    },
    {
      "cell_type": "code",
      "execution_count": null,
      "metadata": {
        "id": "UNEg14JAzveM",
        "colab": {
          "base_uri": "https://localhost:8080/"
        },
        "collapsed": true,
        "outputId": "340ad414-47cc-484b-e245-e5b5e6a0f240"
      },
      "outputs": [
        {
          "output_type": "stream",
          "name": "stdout",
          "text": [
            "Requirement already satisfied: xarray in /usr/local/lib/python3.11/dist-packages (2025.3.1)\n",
            "Collecting netCDF4\n",
            "  Downloading netCDF4-1.7.2-cp311-cp311-manylinux_2_17_x86_64.manylinux2014_x86_64.whl.metadata (1.8 kB)\n",
            "Requirement already satisfied: numpy>=1.24 in /usr/local/lib/python3.11/dist-packages (from xarray) (2.0.2)\n",
            "Requirement already satisfied: packaging>=23.2 in /usr/local/lib/python3.11/dist-packages (from xarray) (24.2)\n",
            "Requirement already satisfied: pandas>=2.1 in /usr/local/lib/python3.11/dist-packages (from xarray) (2.2.2)\n",
            "Collecting cftime (from netCDF4)\n",
            "  Downloading cftime-1.6.4.post1-cp311-cp311-manylinux_2_17_x86_64.manylinux2014_x86_64.whl.metadata (8.7 kB)\n",
            "Requirement already satisfied: certifi in /usr/local/lib/python3.11/dist-packages (from netCDF4) (2025.6.15)\n",
            "Requirement already satisfied: python-dateutil>=2.8.2 in /usr/local/lib/python3.11/dist-packages (from pandas>=2.1->xarray) (2.9.0.post0)\n",
            "Requirement already satisfied: pytz>=2020.1 in /usr/local/lib/python3.11/dist-packages (from pandas>=2.1->xarray) (2025.2)\n",
            "Requirement already satisfied: tzdata>=2022.7 in /usr/local/lib/python3.11/dist-packages (from pandas>=2.1->xarray) (2025.2)\n",
            "Requirement already satisfied: six>=1.5 in /usr/local/lib/python3.11/dist-packages (from python-dateutil>=2.8.2->pandas>=2.1->xarray) (1.17.0)\n",
            "Downloading netCDF4-1.7.2-cp311-cp311-manylinux_2_17_x86_64.manylinux2014_x86_64.whl (9.3 MB)\n",
            "\u001b[2K   \u001b[90m━━━━━━━━━━━━━━━━━━━━━━━━━━━━━━━━━━━━━━━━\u001b[0m \u001b[32m9.3/9.3 MB\u001b[0m \u001b[31m56.2 MB/s\u001b[0m eta \u001b[36m0:00:00\u001b[0m\n",
            "\u001b[?25hDownloading cftime-1.6.4.post1-cp311-cp311-manylinux_2_17_x86_64.manylinux2014_x86_64.whl (1.4 MB)\n",
            "\u001b[2K   \u001b[90m━━━━━━━━━━━━━━━━━━━━━━━━━━━━━━━━━━━━━━━━\u001b[0m \u001b[32m1.4/1.4 MB\u001b[0m \u001b[31m63.1 MB/s\u001b[0m eta \u001b[36m0:00:00\u001b[0m\n",
            "\u001b[?25hInstalling collected packages: cftime, netCDF4\n",
            "Successfully installed cftime-1.6.4.post1 netCDF4-1.7.2\n"
          ]
        }
      ],
      "source": [
        "!pip install xarray netCDF4\n",
        "\n",
        "import xarray as xr\n",
        "import numpy as np\n",
        "import pandas as pd"
      ]
    },
    {
      "cell_type": "code",
      "source": [
        "LTD_ds = xr.open_dataset('LTD05.nc')\n",
        "# USDM05_ds = xr.open_dataset('USDM05_2000_2024.nc')\n",
        "# obs_ds = xr.open_dataset('obs.nc')\n",
        "spei_ds = xr.open_dataset('spei_obs_3D.nc')\n",
        "\n",
        "\n",
        "# LTD and USDM only have one variable, so they can be treated as DataArrays\n",
        "LTD = LTD_ds['LTD']\n",
        "# USDM = USDM05_ds['USDM']"
      ],
      "metadata": {
        "id": "tspGBjKZzzG_",
        "collapsed": true
      },
      "execution_count": null,
      "outputs": []
    },
    {
      "cell_type": "markdown",
      "source": [
        "**General Knowledge** <br>\n",
        "General\n",
        "- Short-Term Drought = less than 6 months\n",
        "- Long-Term Drought = anything longer\n",
        "\n",
        "Data Related\n",
        "- LTD = Long Term Drought (already in USDM format)\n",
        "- USDM = USDM Rasterdized Data\n",
        "- obs = VIC Model Drought Index\n",
        "- spei = SPEI Drought Index\n",
        "\n",
        "LTD & USDM have weekly temporal frequency, obs and spei are monthly. also obs and spei have multiple variables and should be treated as datasets, while LTD and USDM can simply be treated as dataarrays\n"
      ],
      "metadata": {
        "id": "4Xm_813Hz1m5"
      }
    },
    {
      "cell_type": "code",
      "source": [
        "# information about all datasets\n",
        "'''print(LTD_ds.data_vars)\n",
        "print(LTD_ds['LTD'].attrs)\n",
        "print(USDM05_ds.data_vars)\n",
        "print(USDM05_ds['USDM'].attrs)\n",
        "print(obs_ds.data_vars)\n",
        "print(obs_ds['SPI6'].attrs)\n",
        "print(spei_ds.data_vars)\n",
        "print(spei_ds['SPEI6'].attrs)'''"
      ],
      "metadata": {
        "colab": {
          "base_uri": "https://localhost:8080/"
        },
        "id": "vuMitGzH_sdZ",
        "outputId": "9369d60f-8b8c-4c99-f64f-b5f4b4454cdb"
      },
      "execution_count": null,
      "outputs": [
        {
          "output_type": "stream",
          "name": "stdout",
          "text": [
            "Data variables:\n",
            "    LTD      (time, lat, lon) float32 30MB ...\n",
            "{}\n",
            "Data variables:\n",
            "    USDM     (time, lat, lon) float32 30MB ...\n",
            "{}\n",
            "Data variables:\n",
            "    SPI1     (time, ens, lat, lon) float32 9MB ...\n",
            "    SPI3     (time, ens, lat, lon) float32 9MB ...\n",
            "    SPI6     (time, ens, lat, lon) float32 9MB ...\n",
            "    SPI9     (time, ens, lat, lon) float32 9MB ...\n",
            "    SPI12    (time, ens, lat, lon) float32 9MB ...\n",
            "    SPI24    (time, ens, lat, lon) float32 9MB ...\n",
            "    SPI60    (time, ens, lat, lon) float32 9MB ...\n",
            "    SMP1     (time, ens, lat, lon) float32 9MB ...\n",
            "    SMP3     (time, ens, lat, lon) float32 9MB ...\n",
            "    SMP6     (time, ens, lat, lon) float32 9MB ...\n",
            "    SMP9     (time, ens, lat, lon) float32 9MB ...\n",
            "    SMP12    (time, ens, lat, lon) float32 9MB ...\n",
            "    SMP24    (time, ens, lat, lon) float32 9MB ...\n",
            "    SMP60    (time, ens, lat, lon) float32 9MB ...\n",
            "    SRI1     (time, ens, lat, lon) float32 9MB ...\n",
            "    SRI3     (time, ens, lat, lon) float32 9MB ...\n",
            "    SRI6     (time, ens, lat, lon) float32 9MB ...\n",
            "    SRI9     (time, ens, lat, lon) float32 9MB ...\n",
            "    SRI12    (time, ens, lat, lon) float32 9MB ...\n",
            "    SRI24    (time, ens, lat, lon) float32 9MB ...\n",
            "    SRI60    (time, ens, lat, lon) float32 9MB ...\n",
            "{'Missing_value': np.float32(-999.0), 'long_name': '6-Month SPI'}\n",
            "Data variables:\n",
            "    SPEI1    (time, lat, lon) float32 9MB ...\n",
            "    SPEI3    (time, lat, lon) float32 9MB ...\n",
            "    SPEI6    (time, lat, lon) float32 9MB ...\n",
            "    SPEI12   (time, lat, lon) float32 9MB ...\n",
            "    SPEI24   (time, lat, lon) float32 9MB ...\n",
            "    SPEI60   (time, lat, lon) float32 9MB ...\n",
            "    SPEI2    (time, lat, lon) float32 9MB ...\n",
            "    SPEI9    (time, lat, lon) float32 9MB ...\n",
            "    SPEI36   (time, lat, lon) float32 9MB ...\n",
            "    SPEI48   (time, lat, lon) float32 9MB ...\n",
            "    SPEI72   (time, lat, lon) float32 9MB ...\n",
            "{}\n"
          ]
        }
      ]
    },
    {
      "cell_type": "code",
      "source": [
        "# information on obs + SPEI data for 6 month period\n",
        "'''print(np.unique(obs_ds['SMP6'].values))\n",
        "print(np.unique(obs_ds['ens'].values)) #only one ens member, so data can just be treated as time, lat, lon\n",
        "print(np.unique(spei_ds['SPEI6'].values))'''"
      ],
      "metadata": {
        "id": "QOwMsp20DWx9",
        "colab": {
          "base_uri": "https://localhost:8080/"
        },
        "outputId": "507b25b8-fedd-44ad-b2df-468c5b26d26f"
      },
      "execution_count": null,
      "outputs": [
        {
          "output_type": "stream",
          "name": "stdout",
          "text": [
            "[-999.           1.6129031    1.6666667    4.8387094    5.\n",
            "    8.064516     8.333334    11.290322    11.666667    14.516129\n",
            "   15.000001    17.741936    18.333334    20.967741    21.666666\n",
            "   23.333334    24.193548    25.          27.419355    28.333334\n",
            "   30.645163    31.666666    33.870968    35.          37.096775\n",
            "   38.333332    40.322582    41.666664    43.548386    45.\n",
            "   46.774193    48.333332    50.          51.666664    53.22581\n",
            "   55.          56.451614    58.333332    59.67742     61.666668\n",
            "   62.903225    65.          66.129036    66.66667     68.333336\n",
            "   69.354836    70.          71.666664    72.58065     75.\n",
            "   75.80645     78.333336    79.03226     81.666664    82.258064\n",
            "   85.          85.48387     88.333336    88.70968     91.66667\n",
            "   91.935486    95.          95.161285    98.333336    98.3871   ]\n",
            "[1.]\n",
            "[-2.0837314  -1.6277134  -1.3722465  -1.1840639  -1.0304712  -0.89799184\n",
            " -0.7796601  -0.6713587  -0.57041967 -0.47498992 -0.38370755 -0.2955205\n",
            " -0.20957762 -0.12515807 -0.04162271  0.04162271  0.12515807  0.20957762\n",
            "  0.2955205   0.38370755  0.47498992  0.57041967  0.6713587   0.7796601\n",
            "  0.89799184  1.0304712   1.1840639   1.3722465   1.6277134   2.0837314\n",
            "         nan]\n"
          ]
        }
      ]
    },
    {
      "cell_type": "markdown",
      "source": [
        "**Data Cleanup TODO** <br>\n",
        "6/27 <br>\n",
        "interpolate OBS and SPEI data into monthly data (method = linear)<br>\n",
        "standardize all datasets using USDM categorical distribution <br>\n",
        "see how plot animation changes between tasks\n",
        "\n",
        "7/3 <br>\n",
        "extract indices from obs/spei for 6+ month ranges, flatten and clean for usage in model"
      ],
      "metadata": {
        "id": "k6GksPo9_qJw"
      }
    },
    {
      "cell_type": "markdown",
      "source": [
        "**Interpolating Data**"
      ],
      "metadata": {
        "id": "KcOAWxdH_Ed_"
      }
    },
    {
      "cell_type": "code",
      "source": [
        "# Checking date ranges\n",
        "'''print(obs_ds.time.values[0])\n",
        "print(obs_ds.time.values[-1])\n",
        "print(spei_ds.time.values[0])\n",
        "print(spei_ds.time.values[-1])\n",
        "print(LTD_ds.time.values[0])\n",
        "print(LTD_ds.time.values[-1])\n",
        "print(USDM05_ds.time.values[0])\n",
        "print(USDM05_ds.time.values[-1])'''"
      ],
      "metadata": {
        "colab": {
          "base_uri": "https://localhost:8080/"
        },
        "id": "dXfRuP7V_RHp",
        "outputId": "673bfdc9-b4ed-43a8-8c2b-8a669a825454"
      },
      "execution_count": null,
      "outputs": [
        {
          "output_type": "stream",
          "name": "stdout",
          "text": [
            "1991-01-01T00:00:00.000000000\n",
            "2024-10-01T00:00:00.000000000\n",
            "1991-01-31T00:00:00.000000000\n",
            "2024-08-31T00:00:00.000000000\n",
            "2000-01-04T00:00:00.000000000\n",
            "2024-12-31T00:00:00.000000000\n",
            "2000-01-04T00:00:00.000000000\n",
            "2024-12-31T00:00:00.000000000\n"
          ]
        }
      ]
    },
    {
      "cell_type": "code",
      "source": [
        "# Creating new time coordinate\n",
        "weekly_time = LTD_ds.time.values\n",
        "\n",
        "# Converting to weekly (method = linear)\n",
        "# obs_weekly = obs_ds.interp(time=weekly_time, method=\"linear\")\n",
        "spei_weekly = spei_ds.interp(time=weekly_time, method=\"linear\")"
      ],
      "metadata": {
        "id": "aQa5gwQF2MTy"
      },
      "execution_count": null,
      "outputs": []
    },
    {
      "cell_type": "markdown",
      "source": [
        "**Converting dataset values into Percentiles**"
      ],
      "metadata": {
        "id": "_O3jm04L6btG"
      }
    },
    {
      "cell_type": "code",
      "source": [
        "# Function to convert raw values to percentiles\n",
        "# missing values = -999 in obs - might need to alter for proper percentile (7-4)\n",
        "def to_percentile(ds, dim='time', missing_val = -999.0):\n",
        "\n",
        "    valid = ds.where(ds != missing_val)\n",
        "    # Convert each grid point's time series to percentile values.\n",
        "    return valid.rank(dim=dim, pct=True)\n",
        "\n",
        "# 7/4 IMPORTANT - following is only important for visualization of specific SPEI/OBS dataarrays. NOT HELPFUL for ML model\n",
        "# Function to bucket entries w/ specific percentiles in matching usdm categories\n",
        "'''def percentile_to_USDM(p):\n",
        "  return xr.where(p.isnull(), np.nan,         # -1 for NaN values  (7/4)\n",
        "           xr.where( p <= 0.02, 4,        # D4 (Exceptional Drought) = .00-.02\n",
        "           xr.where(p <= 0.05, 3,         # D3 (Extreme Drought) = .02-.05\n",
        "           xr.where(p <= 0.10, 2,         # D2 (Severe Drought) = .05-.10\n",
        "           xr.where(p <= 0.20, 1,\n",
        "          xr.where(p <= 0.3, 0, -1))))))   # D1 (Moderate Drought) = .1-.2, else D0 (Abnormally Dry)'''\n",
        "\n",
        "\n",
        "# percentiles_obs = to_percentile(obs_weekly)\n",
        "# USDM_obs = percentile_to_USDM(percentiles_obs)\n",
        "percentiles_spei = to_percentile(spei_weekly)\n",
        "# USDM_spei = percentile_to_USDM(percentiles_spei)"
      ],
      "metadata": {
        "id": "jYGWZwNaCY0r"
      },
      "execution_count": null,
      "outputs": []
    },
    {
      "cell_type": "code",
      "source": [
        "print(np.unique(percentiles_obs['SPI6'].values))\n",
        "print(np.unique(percentiles_obs['SMP6'].values))"
      ],
      "metadata": {
        "colab": {
          "base_uri": "https://localhost:8080/"
        },
        "id": "V3LywS5EX2a5",
        "outputId": "0f852c66-8109-4215-c92c-90a5c5ad42d7"
      },
      "execution_count": null,
      "outputs": [
        {
          "output_type": "stream",
          "name": "stdout",
          "text": [
            "[7.73993808e-04 1.54798762e-03 1.93498452e-03 ... 9.99226006e-01\n",
            " 1.00000000e+00            nan]\n",
            "[7.73993808e-04 1.16099071e-03 1.54798762e-03 ... 9.99613003e-01\n",
            " 1.00000000e+00            nan]\n"
          ]
        }
      ]
    },
    {
      "cell_type": "markdown",
      "source": [
        "**Flattening datasets**\n",
        "\n",
        "for now, just merging spei and LTD only for testing"
      ],
      "metadata": {
        "id": "mcEjffORfgHM"
      }
    },
    {
      "cell_type": "code",
      "source": [
        "# ens = 1, so safe to ignore it from dataset\n",
        "# testing flattening out entire dataset\n",
        "# flat_obs = percentiles_obs.to_dataframe()\n",
        "spei_df = percentiles_spei.to_dataframe().reset_index()\n",
        "print(spei_df.head(10))"
      ],
      "metadata": {
        "id": "-t8DwYk4f2DH",
        "colab": {
          "base_uri": "https://localhost:8080/"
        },
        "outputId": "f35577a7-0fa1-47e1-cb4a-c8263777152c"
      },
      "execution_count": null,
      "outputs": [
        {
          "output_type": "stream",
          "name": "stdout",
          "text": [
            "        time    lat     lon  SPEI1  SPEI3  SPEI6  SPEI12  SPEI24  SPEI60  \\\n",
            "0 2000-01-04  25.25 -125.75    NaN    NaN    NaN     NaN     NaN     NaN   \n",
            "1 2000-01-04  25.25 -125.25    NaN    NaN    NaN     NaN     NaN     NaN   \n",
            "2 2000-01-04  25.25 -124.75    NaN    NaN    NaN     NaN     NaN     NaN   \n",
            "3 2000-01-04  25.25 -124.25    NaN    NaN    NaN     NaN     NaN     NaN   \n",
            "4 2000-01-04  25.25 -123.75    NaN    NaN    NaN     NaN     NaN     NaN   \n",
            "5 2000-01-04  25.25 -123.25    NaN    NaN    NaN     NaN     NaN     NaN   \n",
            "6 2000-01-04  25.25 -122.75    NaN    NaN    NaN     NaN     NaN     NaN   \n",
            "7 2000-01-04  25.25 -122.25    NaN    NaN    NaN     NaN     NaN     NaN   \n",
            "8 2000-01-04  25.25 -121.75    NaN    NaN    NaN     NaN     NaN     NaN   \n",
            "9 2000-01-04  25.25 -121.25    NaN    NaN    NaN     NaN     NaN     NaN   \n",
            "\n",
            "   SPEI2  SPEI9  SPEI36  SPEI48  SPEI72  \n",
            "0    NaN    NaN     NaN     NaN     NaN  \n",
            "1    NaN    NaN     NaN     NaN     NaN  \n",
            "2    NaN    NaN     NaN     NaN     NaN  \n",
            "3    NaN    NaN     NaN     NaN     NaN  \n",
            "4    NaN    NaN     NaN     NaN     NaN  \n",
            "5    NaN    NaN     NaN     NaN     NaN  \n",
            "6    NaN    NaN     NaN     NaN     NaN  \n",
            "7    NaN    NaN     NaN     NaN     NaN  \n",
            "8    NaN    NaN     NaN     NaN     NaN  \n",
            "9    NaN    NaN     NaN     NaN     NaN  \n"
          ]
        }
      ]
    },
    {
      "cell_type": "markdown",
      "source": [
        "converting and cleaning LTD to dataframe <br>\n",
        "**Important:** changing datetime to Unix epoch format for use with TensorFlow\n",
        "- may want to later extract month + day values. for now this is what we got\n",
        "\n",
        "also changing LTD to be int"
      ],
      "metadata": {
        "id": "5W1TVrklVoe0"
      }
    },
    {
      "cell_type": "code",
      "source": [
        "LTD_df = LTD.to_dataframe().reset_index()\n",
        "print(LTD_df.head(10))"
      ],
      "metadata": {
        "id": "tLsbIozeshAv",
        "colab": {
          "base_uri": "https://localhost:8080/"
        },
        "outputId": "5694e845-ca74-484a-fdc2-6a15499b4852"
      },
      "execution_count": null,
      "outputs": [
        {
          "output_type": "stream",
          "name": "stdout",
          "text": [
            "        time    lat     lon  LTD\n",
            "0 2000-01-04  25.25 -125.75  NaN\n",
            "1 2000-01-04  25.25 -125.25  NaN\n",
            "2 2000-01-04  25.25 -124.75  NaN\n",
            "3 2000-01-04  25.25 -124.25  NaN\n",
            "4 2000-01-04  25.25 -123.75  NaN\n",
            "5 2000-01-04  25.25 -123.25  NaN\n",
            "6 2000-01-04  25.25 -122.75  NaN\n",
            "7 2000-01-04  25.25 -122.25  NaN\n",
            "8 2000-01-04  25.25 -121.75  NaN\n",
            "9 2000-01-04  25.25 -121.25  NaN\n"
          ]
        }
      ]
    },
    {
      "cell_type": "code",
      "source": [
        "merged_df = pd.merge(spei_df, LTD_df, on=['time', 'lat', 'lon'], how='inner')\n",
        "print(merged_df.head(10))"
      ],
      "metadata": {
        "colab": {
          "base_uri": "https://localhost:8080/"
        },
        "id": "azjrhfe__dEF",
        "outputId": "23d3d7ae-7c0d-42bd-f52e-11fe407ec09e"
      },
      "execution_count": null,
      "outputs": [
        {
          "output_type": "stream",
          "name": "stdout",
          "text": [
            "        time    lat     lon  SPEI1  SPEI3  SPEI6  SPEI12  SPEI24  SPEI60  \\\n",
            "0 2000-01-04  25.25 -125.75    NaN    NaN    NaN     NaN     NaN     NaN   \n",
            "1 2000-01-04  25.25 -125.25    NaN    NaN    NaN     NaN     NaN     NaN   \n",
            "2 2000-01-04  25.25 -124.75    NaN    NaN    NaN     NaN     NaN     NaN   \n",
            "3 2000-01-04  25.25 -124.25    NaN    NaN    NaN     NaN     NaN     NaN   \n",
            "4 2000-01-04  25.25 -123.75    NaN    NaN    NaN     NaN     NaN     NaN   \n",
            "5 2000-01-04  25.25 -123.25    NaN    NaN    NaN     NaN     NaN     NaN   \n",
            "6 2000-01-04  25.25 -122.75    NaN    NaN    NaN     NaN     NaN     NaN   \n",
            "7 2000-01-04  25.25 -122.25    NaN    NaN    NaN     NaN     NaN     NaN   \n",
            "8 2000-01-04  25.25 -121.75    NaN    NaN    NaN     NaN     NaN     NaN   \n",
            "9 2000-01-04  25.25 -121.25    NaN    NaN    NaN     NaN     NaN     NaN   \n",
            "\n",
            "   SPEI2  SPEI9  SPEI36  SPEI48  SPEI72  LTD  \n",
            "0    NaN    NaN     NaN     NaN     NaN  NaN  \n",
            "1    NaN    NaN     NaN     NaN     NaN  NaN  \n",
            "2    NaN    NaN     NaN     NaN     NaN  NaN  \n",
            "3    NaN    NaN     NaN     NaN     NaN  NaN  \n",
            "4    NaN    NaN     NaN     NaN     NaN  NaN  \n",
            "5    NaN    NaN     NaN     NaN     NaN  NaN  \n",
            "6    NaN    NaN     NaN     NaN     NaN  NaN  \n",
            "7    NaN    NaN     NaN     NaN     NaN  NaN  \n",
            "8    NaN    NaN     NaN     NaN     NaN  NaN  \n",
            "9    NaN    NaN     NaN     NaN     NaN  NaN  \n"
          ]
        }
      ]
    },
    {
      "cell_type": "code",
      "source": [
        "# cleaning up NaN entries\n",
        "df = merged_df.dropna(subset=['LTD']).copy()\n",
        "\n",
        "# changing -1 classification to 5 to work with featurespace\n",
        "df[\"LTD\"] = df[\"LTD\"].replace(-1, 5)\n",
        "\n",
        "\n",
        "# changing datetime to be usable by TensorFlow, changing LTD from float to int to match example\n",
        "df[\"time\"] = pd.to_datetime(df[\"time\"]).map(pd.Timestamp.timestamp)\n",
        "df.head() # LTD is target"
      ],
      "metadata": {
        "colab": {
          "base_uri": "https://localhost:8080/",
          "height": 245
        },
        "id": "xcf0LLYw8EhE",
        "outputId": "1d4b43da-f623-4f23-8925-a752ba729ea2"
      },
      "execution_count": null,
      "outputs": [
        {
          "output_type": "execute_result",
          "data": {
            "text/plain": [
              "            time    lat    lon     SPEI1     SPEI3     SPEI6    SPEI12  \\\n",
              "89   946944000.0  25.25 -81.25  0.453674  0.856230  0.892971  0.937700   \n",
              "90   946944000.0  25.25 -80.75  0.565657  0.977467  0.984848  0.882673   \n",
              "91   946944000.0  25.25 -80.25  0.269968  0.833866  0.806709  0.514377   \n",
              "207  946944000.0  25.75 -81.25  0.281274  0.936286  1.000000  0.990676   \n",
              "208  946944000.0  25.75 -80.75  0.419580  0.969697  0.993395  0.969697   \n",
              "\n",
              "       SPEI24    SPEI60     SPEI2     SPEI9    SPEI36    SPEI48    SPEI72  LTD  \n",
              "89   0.944089  0.966454  0.444089  0.950479  0.987220  0.979233  0.920128 -1.0  \n",
              "90   0.825952  0.991841  0.505051  0.923854  0.968143  0.950272  0.986791 -1.0  \n",
              "91   0.654952  0.937700  0.421725  0.555911  0.955272  0.897764  0.944089 -1.0  \n",
              "207  0.997280  0.999223  0.612277  0.989510  0.993395  0.983683  0.986791 -1.0  \n",
              "208  0.955322  1.000000  0.418415  0.986014  0.951049  0.975136  0.998834 -1.0  "
            ],
            "text/html": [
              "\n",
              "  <div id=\"df-b73229b1-4f32-470c-8350-e6e1020fdcbf\" class=\"colab-df-container\">\n",
              "    <div>\n",
              "<style scoped>\n",
              "    .dataframe tbody tr th:only-of-type {\n",
              "        vertical-align: middle;\n",
              "    }\n",
              "\n",
              "    .dataframe tbody tr th {\n",
              "        vertical-align: top;\n",
              "    }\n",
              "\n",
              "    .dataframe thead th {\n",
              "        text-align: right;\n",
              "    }\n",
              "</style>\n",
              "<table border=\"1\" class=\"dataframe\">\n",
              "  <thead>\n",
              "    <tr style=\"text-align: right;\">\n",
              "      <th></th>\n",
              "      <th>time</th>\n",
              "      <th>lat</th>\n",
              "      <th>lon</th>\n",
              "      <th>SPEI1</th>\n",
              "      <th>SPEI3</th>\n",
              "      <th>SPEI6</th>\n",
              "      <th>SPEI12</th>\n",
              "      <th>SPEI24</th>\n",
              "      <th>SPEI60</th>\n",
              "      <th>SPEI2</th>\n",
              "      <th>SPEI9</th>\n",
              "      <th>SPEI36</th>\n",
              "      <th>SPEI48</th>\n",
              "      <th>SPEI72</th>\n",
              "      <th>LTD</th>\n",
              "    </tr>\n",
              "  </thead>\n",
              "  <tbody>\n",
              "    <tr>\n",
              "      <th>89</th>\n",
              "      <td>946944000.0</td>\n",
              "      <td>25.25</td>\n",
              "      <td>-81.25</td>\n",
              "      <td>0.453674</td>\n",
              "      <td>0.856230</td>\n",
              "      <td>0.892971</td>\n",
              "      <td>0.937700</td>\n",
              "      <td>0.944089</td>\n",
              "      <td>0.966454</td>\n",
              "      <td>0.444089</td>\n",
              "      <td>0.950479</td>\n",
              "      <td>0.987220</td>\n",
              "      <td>0.979233</td>\n",
              "      <td>0.920128</td>\n",
              "      <td>-1.0</td>\n",
              "    </tr>\n",
              "    <tr>\n",
              "      <th>90</th>\n",
              "      <td>946944000.0</td>\n",
              "      <td>25.25</td>\n",
              "      <td>-80.75</td>\n",
              "      <td>0.565657</td>\n",
              "      <td>0.977467</td>\n",
              "      <td>0.984848</td>\n",
              "      <td>0.882673</td>\n",
              "      <td>0.825952</td>\n",
              "      <td>0.991841</td>\n",
              "      <td>0.505051</td>\n",
              "      <td>0.923854</td>\n",
              "      <td>0.968143</td>\n",
              "      <td>0.950272</td>\n",
              "      <td>0.986791</td>\n",
              "      <td>-1.0</td>\n",
              "    </tr>\n",
              "    <tr>\n",
              "      <th>91</th>\n",
              "      <td>946944000.0</td>\n",
              "      <td>25.25</td>\n",
              "      <td>-80.25</td>\n",
              "      <td>0.269968</td>\n",
              "      <td>0.833866</td>\n",
              "      <td>0.806709</td>\n",
              "      <td>0.514377</td>\n",
              "      <td>0.654952</td>\n",
              "      <td>0.937700</td>\n",
              "      <td>0.421725</td>\n",
              "      <td>0.555911</td>\n",
              "      <td>0.955272</td>\n",
              "      <td>0.897764</td>\n",
              "      <td>0.944089</td>\n",
              "      <td>-1.0</td>\n",
              "    </tr>\n",
              "    <tr>\n",
              "      <th>207</th>\n",
              "      <td>946944000.0</td>\n",
              "      <td>25.75</td>\n",
              "      <td>-81.25</td>\n",
              "      <td>0.281274</td>\n",
              "      <td>0.936286</td>\n",
              "      <td>1.000000</td>\n",
              "      <td>0.990676</td>\n",
              "      <td>0.997280</td>\n",
              "      <td>0.999223</td>\n",
              "      <td>0.612277</td>\n",
              "      <td>0.989510</td>\n",
              "      <td>0.993395</td>\n",
              "      <td>0.983683</td>\n",
              "      <td>0.986791</td>\n",
              "      <td>-1.0</td>\n",
              "    </tr>\n",
              "    <tr>\n",
              "      <th>208</th>\n",
              "      <td>946944000.0</td>\n",
              "      <td>25.75</td>\n",
              "      <td>-80.75</td>\n",
              "      <td>0.419580</td>\n",
              "      <td>0.969697</td>\n",
              "      <td>0.993395</td>\n",
              "      <td>0.969697</td>\n",
              "      <td>0.955322</td>\n",
              "      <td>1.000000</td>\n",
              "      <td>0.418415</td>\n",
              "      <td>0.986014</td>\n",
              "      <td>0.951049</td>\n",
              "      <td>0.975136</td>\n",
              "      <td>0.998834</td>\n",
              "      <td>-1.0</td>\n",
              "    </tr>\n",
              "  </tbody>\n",
              "</table>\n",
              "</div>\n",
              "    <div class=\"colab-df-buttons\">\n",
              "\n",
              "  <div class=\"colab-df-container\">\n",
              "    <button class=\"colab-df-convert\" onclick=\"convertToInteractive('df-b73229b1-4f32-470c-8350-e6e1020fdcbf')\"\n",
              "            title=\"Convert this dataframe to an interactive table.\"\n",
              "            style=\"display:none;\">\n",
              "\n",
              "  <svg xmlns=\"http://www.w3.org/2000/svg\" height=\"24px\" viewBox=\"0 -960 960 960\">\n",
              "    <path d=\"M120-120v-720h720v720H120Zm60-500h600v-160H180v160Zm220 220h160v-160H400v160Zm0 220h160v-160H400v160ZM180-400h160v-160H180v160Zm440 0h160v-160H620v160ZM180-180h160v-160H180v160Zm440 0h160v-160H620v160Z\"/>\n",
              "  </svg>\n",
              "    </button>\n",
              "\n",
              "  <style>\n",
              "    .colab-df-container {\n",
              "      display:flex;\n",
              "      gap: 12px;\n",
              "    }\n",
              "\n",
              "    .colab-df-convert {\n",
              "      background-color: #E8F0FE;\n",
              "      border: none;\n",
              "      border-radius: 50%;\n",
              "      cursor: pointer;\n",
              "      display: none;\n",
              "      fill: #1967D2;\n",
              "      height: 32px;\n",
              "      padding: 0 0 0 0;\n",
              "      width: 32px;\n",
              "    }\n",
              "\n",
              "    .colab-df-convert:hover {\n",
              "      background-color: #E2EBFA;\n",
              "      box-shadow: 0px 1px 2px rgba(60, 64, 67, 0.3), 0px 1px 3px 1px rgba(60, 64, 67, 0.15);\n",
              "      fill: #174EA6;\n",
              "    }\n",
              "\n",
              "    .colab-df-buttons div {\n",
              "      margin-bottom: 4px;\n",
              "    }\n",
              "\n",
              "    [theme=dark] .colab-df-convert {\n",
              "      background-color: #3B4455;\n",
              "      fill: #D2E3FC;\n",
              "    }\n",
              "\n",
              "    [theme=dark] .colab-df-convert:hover {\n",
              "      background-color: #434B5C;\n",
              "      box-shadow: 0px 1px 3px 1px rgba(0, 0, 0, 0.15);\n",
              "      filter: drop-shadow(0px 1px 2px rgba(0, 0, 0, 0.3));\n",
              "      fill: #FFFFFF;\n",
              "    }\n",
              "  </style>\n",
              "\n",
              "    <script>\n",
              "      const buttonEl =\n",
              "        document.querySelector('#df-b73229b1-4f32-470c-8350-e6e1020fdcbf button.colab-df-convert');\n",
              "      buttonEl.style.display =\n",
              "        google.colab.kernel.accessAllowed ? 'block' : 'none';\n",
              "\n",
              "      async function convertToInteractive(key) {\n",
              "        const element = document.querySelector('#df-b73229b1-4f32-470c-8350-e6e1020fdcbf');\n",
              "        const dataTable =\n",
              "          await google.colab.kernel.invokeFunction('convertToInteractive',\n",
              "                                                    [key], {});\n",
              "        if (!dataTable) return;\n",
              "\n",
              "        const docLinkHtml = 'Like what you see? Visit the ' +\n",
              "          '<a target=\"_blank\" href=https://colab.research.google.com/notebooks/data_table.ipynb>data table notebook</a>'\n",
              "          + ' to learn more about interactive tables.';\n",
              "        element.innerHTML = '';\n",
              "        dataTable['output_type'] = 'display_data';\n",
              "        await google.colab.output.renderOutput(dataTable, element);\n",
              "        const docLink = document.createElement('div');\n",
              "        docLink.innerHTML = docLinkHtml;\n",
              "        element.appendChild(docLink);\n",
              "      }\n",
              "    </script>\n",
              "  </div>\n",
              "\n",
              "\n",
              "    <div id=\"df-6a4732cc-c871-44ee-8a39-b01c4735adf9\">\n",
              "      <button class=\"colab-df-quickchart\" onclick=\"quickchart('df-6a4732cc-c871-44ee-8a39-b01c4735adf9')\"\n",
              "                title=\"Suggest charts\"\n",
              "                style=\"display:none;\">\n",
              "\n",
              "<svg xmlns=\"http://www.w3.org/2000/svg\" height=\"24px\"viewBox=\"0 0 24 24\"\n",
              "     width=\"24px\">\n",
              "    <g>\n",
              "        <path d=\"M19 3H5c-1.1 0-2 .9-2 2v14c0 1.1.9 2 2 2h14c1.1 0 2-.9 2-2V5c0-1.1-.9-2-2-2zM9 17H7v-7h2v7zm4 0h-2V7h2v10zm4 0h-2v-4h2v4z\"/>\n",
              "    </g>\n",
              "</svg>\n",
              "      </button>\n",
              "\n",
              "<style>\n",
              "  .colab-df-quickchart {\n",
              "      --bg-color: #E8F0FE;\n",
              "      --fill-color: #1967D2;\n",
              "      --hover-bg-color: #E2EBFA;\n",
              "      --hover-fill-color: #174EA6;\n",
              "      --disabled-fill-color: #AAA;\n",
              "      --disabled-bg-color: #DDD;\n",
              "  }\n",
              "\n",
              "  [theme=dark] .colab-df-quickchart {\n",
              "      --bg-color: #3B4455;\n",
              "      --fill-color: #D2E3FC;\n",
              "      --hover-bg-color: #434B5C;\n",
              "      --hover-fill-color: #FFFFFF;\n",
              "      --disabled-bg-color: #3B4455;\n",
              "      --disabled-fill-color: #666;\n",
              "  }\n",
              "\n",
              "  .colab-df-quickchart {\n",
              "    background-color: var(--bg-color);\n",
              "    border: none;\n",
              "    border-radius: 50%;\n",
              "    cursor: pointer;\n",
              "    display: none;\n",
              "    fill: var(--fill-color);\n",
              "    height: 32px;\n",
              "    padding: 0;\n",
              "    width: 32px;\n",
              "  }\n",
              "\n",
              "  .colab-df-quickchart:hover {\n",
              "    background-color: var(--hover-bg-color);\n",
              "    box-shadow: 0 1px 2px rgba(60, 64, 67, 0.3), 0 1px 3px 1px rgba(60, 64, 67, 0.15);\n",
              "    fill: var(--button-hover-fill-color);\n",
              "  }\n",
              "\n",
              "  .colab-df-quickchart-complete:disabled,\n",
              "  .colab-df-quickchart-complete:disabled:hover {\n",
              "    background-color: var(--disabled-bg-color);\n",
              "    fill: var(--disabled-fill-color);\n",
              "    box-shadow: none;\n",
              "  }\n",
              "\n",
              "  .colab-df-spinner {\n",
              "    border: 2px solid var(--fill-color);\n",
              "    border-color: transparent;\n",
              "    border-bottom-color: var(--fill-color);\n",
              "    animation:\n",
              "      spin 1s steps(1) infinite;\n",
              "  }\n",
              "\n",
              "  @keyframes spin {\n",
              "    0% {\n",
              "      border-color: transparent;\n",
              "      border-bottom-color: var(--fill-color);\n",
              "      border-left-color: var(--fill-color);\n",
              "    }\n",
              "    20% {\n",
              "      border-color: transparent;\n",
              "      border-left-color: var(--fill-color);\n",
              "      border-top-color: var(--fill-color);\n",
              "    }\n",
              "    30% {\n",
              "      border-color: transparent;\n",
              "      border-left-color: var(--fill-color);\n",
              "      border-top-color: var(--fill-color);\n",
              "      border-right-color: var(--fill-color);\n",
              "    }\n",
              "    40% {\n",
              "      border-color: transparent;\n",
              "      border-right-color: var(--fill-color);\n",
              "      border-top-color: var(--fill-color);\n",
              "    }\n",
              "    60% {\n",
              "      border-color: transparent;\n",
              "      border-right-color: var(--fill-color);\n",
              "    }\n",
              "    80% {\n",
              "      border-color: transparent;\n",
              "      border-right-color: var(--fill-color);\n",
              "      border-bottom-color: var(--fill-color);\n",
              "    }\n",
              "    90% {\n",
              "      border-color: transparent;\n",
              "      border-bottom-color: var(--fill-color);\n",
              "    }\n",
              "  }\n",
              "</style>\n",
              "\n",
              "      <script>\n",
              "        async function quickchart(key) {\n",
              "          const quickchartButtonEl =\n",
              "            document.querySelector('#' + key + ' button');\n",
              "          quickchartButtonEl.disabled = true;  // To prevent multiple clicks.\n",
              "          quickchartButtonEl.classList.add('colab-df-spinner');\n",
              "          try {\n",
              "            const charts = await google.colab.kernel.invokeFunction(\n",
              "                'suggestCharts', [key], {});\n",
              "          } catch (error) {\n",
              "            console.error('Error during call to suggestCharts:', error);\n",
              "          }\n",
              "          quickchartButtonEl.classList.remove('colab-df-spinner');\n",
              "          quickchartButtonEl.classList.add('colab-df-quickchart-complete');\n",
              "        }\n",
              "        (() => {\n",
              "          let quickchartButtonEl =\n",
              "            document.querySelector('#df-6a4732cc-c871-44ee-8a39-b01c4735adf9 button');\n",
              "          quickchartButtonEl.style.display =\n",
              "            google.colab.kernel.accessAllowed ? 'block' : 'none';\n",
              "        })();\n",
              "      </script>\n",
              "    </div>\n",
              "\n",
              "    </div>\n",
              "  </div>\n"
            ],
            "application/vnd.google.colaboratory.intrinsic+json": {
              "type": "dataframe",
              "variable_name": "df"
            }
          },
          "metadata": {},
          "execution_count": 8
        },
        {
          "output_type": "stream",
          "name": "stdout",
          "text": [
            "WARNING: Runtime no longer has a reference to this dataframe, please re-run this cell and try again.\n"
          ]
        }
      ]
    },
    {
      "cell_type": "markdown",
      "source": [
        "##7/5 stop here##\n",
        "\n",
        "flattened and combined spei and obs into one dataframe\n",
        "time, lat, lon are still multi-index. might need to change that for ML model? <br>\n",
        "percentiles and entries should all be correct, combined df is stored as output.csv on my machine <br>\n",
        "actual hell trying to get to that point, colab kept crashing. prob need to switch to vscode <br>\n",
        "TODO: <br>\n",
        "redo combined dataframe, dropping time, lat, and lon before resetting index instead of using multiindex (keras isn't prepped for multiindex)\n",
        "drop NaN rows\n",
        "\n",
        "## 7/7\n",
        "\n",
        "took a step back and just merged spei and LTD - time, lat, and lon are now normal features instead of multi-index\n",
        "all lat/lon/time entries match between spei and LTD - no unique values, so merging was easy\n",
        "all percentiles, NaN values, and df should be correct\n",
        "now tryna test model before adding obs"
      ],
      "metadata": {
        "id": "Nzmoy-9CiHbK"
      }
    },
    {
      "cell_type": "markdown",
      "source": [
        "# Training an MI Model using Keras <br>\n",
        "For now, we'll train the model following the basic examples using the utilities given by Keras, such as FeatureSpace. Later if needed, we can try implementing the model from scratch to better manage parameters\n",
        "\n",
        "Possible examples from Keras: <br>\n",
        "- **Structured Data Classification using FeatureSpace**\n",
        "  - predict USDM drought class from lat/lon/time\n",
        "- Timeseries Classification (pdf notes that these are potentially valuable, but weren't particularly studied)\n",
        "  - predict future LTD values from past LTD datasets/values\n",
        "\n",
        "\n"
      ],
      "metadata": {
        "id": "ty0sceqW2NCO"
      }
    },
    {
      "cell_type": "markdown",
      "source": [
        "### Model using only LTD data (6/27 - 7/3)\n",
        "This week, I was tasked with training the model on just the Long-Term Drought (LTD) dataset, just as a starter. The LTD dataset only has data on longitude, latitude, and time. As such, while it is useful to record and visualize the data, it isn't suitable for training the model to consistently predict drought classifications. Later, we will incorporate other datasets, such as the SPEI drought index and VIC model drought index, which will have more helpful information to improve accuracy\n"
      ],
      "metadata": {
        "id": "sMqCcOP0VkaS"
      }
    },
    {
      "cell_type": "markdown",
      "source": [
        "importing relevant keras stuff"
      ],
      "metadata": {
        "id": "aejMMpQy9lsw"
      }
    },
    {
      "cell_type": "code",
      "source": [
        "import os\n",
        "\n",
        "os.environ[\"KERAS_BACKEND\"] = \"tensorflow\"\n",
        "import tensorflow as tf\n",
        "import keras\n",
        "from keras.utils import FeatureSpace"
      ],
      "metadata": {
        "id": "bZENzKMO3IVp"
      },
      "execution_count": null,
      "outputs": []
    },
    {
      "cell_type": "markdown",
      "source": [
        "**Applying Keras Structured Data Classification w/ Feature Space to cleaned LTD dataframe**"
      ],
      "metadata": {
        "id": "HZZz1PRIY8iI"
      }
    },
    {
      "cell_type": "markdown",
      "source": [
        "splitting data into training + validation set"
      ],
      "metadata": {
        "id": "UKqcphLvZzKG"
      }
    },
    {
      "cell_type": "code",
      "source": [
        "val_df = df.sample(frac=0.2, random_state=1337)\n",
        "train_df = df.drop(val_df.index)\n",
        "\n",
        "print(\n",
        "    \"Using %d samples for training and %d for validation\"\n",
        "    % (len(train_df), len(val_df))\n",
        ")"
      ],
      "metadata": {
        "colab": {
          "base_uri": "https://localhost:8080/"
        },
        "id": "Nu38z7MeZD3Y",
        "outputId": "07eb659d-8fd3-4a55-e0eb-a389e84e2eed"
      },
      "execution_count": null,
      "outputs": [
        {
          "output_type": "stream",
          "name": "stdout",
          "text": [
            "Using 3544380 samples for training and 886095 for validation\n"
          ]
        }
      ]
    },
    {
      "cell_type": "markdown",
      "source": [
        "Generating tf.data.Dataset for each dataframe, where each Dataset yields a tuple (input, target). <br>\n",
        "Input is a dictionary of features, target (LTD) is a value 0-4 <br>"
      ],
      "metadata": {
        "id": "7EaN-wHGZ2pa"
      }
    },
    {
      "cell_type": "code",
      "source": [
        "def dataframe_to_dataset(dataframe):\n",
        "    dataframe = dataframe.copy()\n",
        "    labels = dataframe.pop(\"LTD\")\n",
        "    ds = tf.data.Dataset.from_tensor_slices((dict(dataframe), labels))\n",
        "    ds = ds.shuffle(buffer_size=len(dataframe))\n",
        "    return ds\n",
        "\n",
        "\n",
        "train_ds = dataframe_to_dataset(train_df)\n",
        "val_ds = dataframe_to_dataset(val_df)\n",
        "\n",
        "for x, y in train_ds.take(1):\n",
        "    print(\"Input:\", x)\n",
        "    print(\"Target:\", y)"
      ],
      "metadata": {
        "id": "N4lKwFNOaOen"
      },
      "execution_count": null,
      "outputs": []
    },
    {
      "cell_type": "markdown",
      "source": [
        "Batching Datasets"
      ],
      "metadata": {
        "id": "D8FzVkbqduil"
      }
    },
    {
      "cell_type": "code",
      "source": [
        "train_ds = train_ds.batch(16)\n",
        "val_ds = val_ds.batch(16)"
      ],
      "metadata": {
        "id": "sgyybyMBdwBY"
      },
      "execution_count": null,
      "outputs": []
    },
    {
      "cell_type": "markdown",
      "source": [
        "Configuring our FeatureSpace\n",
        "- for now, features are pretty barebones. just as they are in original dataframe"
      ],
      "metadata": {
        "id": "vdnNudsrewzc"
      }
    },
    {
      "cell_type": "code",
      "source": [
        "feature_space = FeatureSpace(\n",
        "    features={\n",
        "        \"lat\": \"float\",\n",
        "        \"lon\": \"float\",\n",
        "        \"time\": \"float\",\n",
        "        \"SPEI1\" : \"float\",\n",
        "        \"SPEI3\" : \"float\",\n",
        "        \"SPEI6\" : \"float\",\n",
        "        \"SPEI12\" : \"float\",\n",
        "        \"SPEI24\" : \"float\",\n",
        "        \"SPEI60\" : \"float\",\n",
        "        \"SPEI2\" : \"float\",\n",
        "        \"SPEI9\" : \"float\",\n",
        "        \"SPEI36\" : \"float\",\n",
        "        \"SPEI48\" : \"float\",\n",
        "        \"SPEI72\" : \"float\",\n",
        "\n",
        "    },\n",
        "    output_mode=\"concat\"\n",
        ")"
      ],
      "metadata": {
        "id": "r6CIB3oZe8MG"
      },
      "execution_count": null,
      "outputs": []
    },
    {
      "cell_type": "markdown",
      "source": [
        "Adapting FeatureSpace to training data"
      ],
      "metadata": {
        "id": "QdSpBFO2fg4W"
      }
    },
    {
      "cell_type": "code",
      "source": [
        "train_ds_with_no_labels = train_ds.map(lambda x, _: x)\n",
        "feature_space.adapt(train_ds_with_no_labels)\n",
        "\n",
        "for x, _ in train_ds.take(1):\n",
        "    preprocessed_x = feature_space(x)\n",
        "    print(\"preprocessed_x.shape:\", preprocessed_x.shape)\n",
        "    print(\"preprocessed_x.dtype:\", preprocessed_x.dtype)"
      ],
      "metadata": {
        "colab": {
          "base_uri": "https://localhost:8080/"
        },
        "id": "N9E-yXbAfjSt",
        "outputId": "516e02ba-738e-43ea-803c-200e1b3eb339"
      },
      "execution_count": null,
      "outputs": [
        {
          "output_type": "stream",
          "name": "stdout",
          "text": [
            "preprocessed_x.shape: (16, 3)\n",
            "preprocessed_x.dtype: <dtype: 'float32'>\n"
          ]
        }
      ]
    },
    {
      "cell_type": "markdown",
      "source": [
        "Manage preprocessing in tf.data pipeline"
      ],
      "metadata": {
        "id": "x6C9P9cug6Z3"
      }
    },
    {
      "cell_type": "code",
      "source": [
        "preprocessed_train_ds = train_ds.map(\n",
        "    lambda x, y: (feature_space(x), y), num_parallel_calls=tf.data.AUTOTUNE\n",
        ")\n",
        "preprocessed_train_ds = preprocessed_train_ds.prefetch(tf.data.AUTOTUNE)\n",
        "\n",
        "preprocessed_val_ds = val_ds.map(\n",
        "    lambda x, y: (feature_space(x), y), num_parallel_calls=tf.data.AUTOTUNE\n",
        ")\n",
        "preprocessed_val_ds = preprocessed_val_ds.prefetch(tf.data.AUTOTUNE)"
      ],
      "metadata": {
        "id": "_cabw0Awg9je"
      },
      "execution_count": null,
      "outputs": []
    },
    {
      "cell_type": "markdown",
      "source": [
        "**Build training & Inference Model**\n",
        "\n",
        "Loss function - using sparse_categorical_crossentropy instead of binary_classification, since the target label ranges from 0-4 instead of binary values\n",
        "\n",
        "Similarly, modified keras.Layers.Dense to have 5 output nodes instead of 2\n"
      ],
      "metadata": {
        "id": "wCTtQ_BahD18"
      }
    },
    {
      "cell_type": "code",
      "source": [
        "dict_inputs = feature_space.get_inputs()\n",
        "encoded_features = feature_space.get_encoded_features()\n",
        "\n",
        "x = keras.layers.Dense(32, activation=\"relu\")(encoded_features)\n",
        "x = keras.layers.Dropout(0.5)(x)\n",
        "# change from example in order to fit categorization of LTD\n",
        "predictions = keras.layers.Dense(6, activation=\"softmax\")(x)\n",
        "\n",
        "training_model = keras.Model(inputs=encoded_features, outputs=predictions)\n",
        "training_model.compile(\n",
        "    optimizer=\"adam\", loss=\"sparse_categorical_crossentropy\", metrics=[\"accuracy\"] # change this too to from binary\n",
        ")\n",
        "\n",
        "inference_model = keras.Model(inputs=dict_inputs, outputs=predictions)"
      ],
      "metadata": {
        "id": "_ErVn_pIhGTq"
      },
      "execution_count": null,
      "outputs": []
    },
    {
      "cell_type": "markdown",
      "source": [
        "Train Model for 20 Epochs"
      ],
      "metadata": {
        "id": "bFW-Mj7hhHlD"
      }
    },
    {
      "cell_type": "markdown",
      "source": [
        "From tests on my own machine, accuracy plateaus at 0.2678 at the second or third epoch, indicating that while the model is more accurate than pure random (1/5 chance), it suffers from underfitting/not being able to discern enough information well enough to predict correctly past a certain threshold. While this could be attributed to how the model was trained, I think it's more likely because it was only trained on the features given by LTD, which were lat, lon, and timezone (converted into Unix Epoch to account for TensorFlow) - not really good indicators for when a drought would come. I think the model would need to be trained on the other .nc files to be more accurate, but it could still be an issue with how I trained the model. need to ask."
      ],
      "metadata": {
        "id": "C0bnbD9FuUf9"
      }
    },
    {
      "cell_type": "code",
      "source": [
        "training_model.fit(\n",
        "    preprocessed_train_ds,\n",
        "    epochs=20,\n",
        "    validation_data=preprocessed_val_ds,\n",
        "    verbose=2,\n",
        ")"
      ],
      "metadata": {
        "id": "_o-HEj9LhKZS"
      },
      "execution_count": null,
      "outputs": []
    },
    {
      "cell_type": "markdown",
      "source": [
        "### Incorporating SPEI into Model"
      ],
      "metadata": {
        "id": "Uml9FUoS60VK"
      }
    },
    {
      "cell_type": "markdown",
      "source": [
        "turns out LTD is the target, and each SPEI variable for each datetime is the input. that explains a lot"
      ],
      "metadata": {
        "id": "3W1PSVekIwu4"
      }
    },
    {
      "cell_type": "markdown",
      "source": [
        "**Visualizing Datasets w/ Animation**"
      ],
      "metadata": {
        "id": "jasJg1cJ3KIB"
      }
    },
    {
      "cell_type": "markdown",
      "source": [
        "to be used to animate USDM datasets"
      ],
      "metadata": {
        "id": "I7iljEpuTh12"
      }
    },
    {
      "cell_type": "code",
      "source": [
        "from IPython.display import HTML\n",
        "import matplotlib.pyplot as plt\n",
        "import matplotlib.animation as animation\n",
        "\n",
        "fig, ax = plt.subplots()\n",
        "\n",
        "# Define the update function\n",
        "def animate(data, i):\n",
        "    ax.clear()\n",
        "    # Store the plot object\n",
        "    plot_obj = data.isel(time=i).plot(ax=ax, add_colorbar=False)\n",
        "    ax.set_title(str(data.time[i].values)[:10])\n",
        "    # Return the plot object\n",
        "    return plot_obj\n"
      ],
      "metadata": {
        "id": "6U85x2e_TNjU",
        "colab": {
          "base_uri": "https://localhost:8080/",
          "height": 435
        },
        "outputId": "bd59d030-44e5-458f-9225-5394fc38d56a"
      },
      "execution_count": null,
      "outputs": [
        {
          "output_type": "display_data",
          "data": {
            "text/plain": [
              "<Figure size 640x480 with 1 Axes>"
            ],
            "image/png": "[encoded data removed]"
          },
          "metadata": {}
        }
      ]
    },
    {
      "cell_type": "code",
      "source": [
        "# 7/4 - These animations are only useful for plotting data directly from\n",
        "# plotting raw LTD dataset (LTD is already in USDM range)\n",
        "anim_LTD = animation.FuncAnimation(fig, lambda i: animate(LTD, i), frames=len(LTD.time), interval=100)\n",
        "HTML(anim_LTD.to_html5_video())\n",
        "\n",
        "# plotting singular spei dataset, post USDM conversion\n",
        "anim_spei = animation.FuncAnimation(fig, lambda i: animate(USDM_spei[\"SPEI6\"], i), frames=len(USDM_spei.time), interval=100)\n",
        "HTML(anim_spei.to_html5_video())"
      ],
      "metadata": {
        "id": "E2ClUK7rHQHY",
        "colab": {
          "base_uri": "https://localhost:8080/",
          "height": 467
        },
        "collapsed": true,
        "outputId": "dbb5623f-bd52-4556-be4b-e94bd1868143"
      },
      "execution_count": null,
      "outputs": [
        {
          "output_type": "error",
          "ename": "CalledProcessError",
          "evalue": "Command '['ffmpeg', '-f', 'rawvideo', '-vcodec', 'rawvideo', '-s', '640x480', '-pix_fmt', 'rgba', '-framerate', '10.0', '-loglevel', 'error', '-i', 'pipe:', '-vcodec', 'h264', '-pix_fmt', 'yuv420p', '-y', '/tmp/tmpzwagqaru/temp.m4v']' returned non-zero exit status 255.",
          "traceback": [
            "\u001b[0;31m---------------------------------------------------------------------------\u001b[0m",
            "\u001b[0;31mKeyboardInterrupt\u001b[0m                         Traceback (most recent call last)",
            "\u001b[0;32m/usr/local/lib/python3.11/dist-packages/matplotlib/animation.py\u001b[0m in \u001b[0;36msaving\u001b[0;34m(self, fig, outfile, dpi, *args, **kwargs)\u001b[0m\n\u001b[1;32m    223\u001b[0m             \u001b[0;32mtry\u001b[0m\u001b[0;34m:\u001b[0m\u001b[0;34m\u001b[0m\u001b[0;34m\u001b[0m\u001b[0m\n\u001b[0;32m--> 224\u001b[0;31m                 \u001b[0;32myield\u001b[0m \u001b[0mself\u001b[0m\u001b[0;34m\u001b[0m\u001b[0;34m\u001b[0m\u001b[0m\n\u001b[0m\u001b[1;32m    225\u001b[0m             \u001b[0;32mfinally\u001b[0m\u001b[0;34m:\u001b[0m\u001b[0;34m\u001b[0m\u001b[0;34m\u001b[0m\u001b[0m\n",
            "\u001b[0;32m/usr/local/lib/python3.11/dist-packages/matplotlib/animation.py\u001b[0m in \u001b[0;36msave\u001b[0;34m(self, filename, writer, fps, dpi, codec, bitrate, extra_args, metadata, extra_anim, savefig_kwargs, progress_callback)\u001b[0m\n\u001b[1;32m   1125\u001b[0m                         \u001b[0mframe_number\u001b[0m \u001b[0;34m+=\u001b[0m \u001b[0;36m1\u001b[0m\u001b[0;34m\u001b[0m\u001b[0;34m\u001b[0m\u001b[0m\n\u001b[0;32m-> 1126\u001b[0;31m                 \u001b[0mwriter\u001b[0m\u001b[0;34m.\u001b[0m\u001b[0mgrab_frame\u001b[0m\u001b[0;34m(\u001b[0m\u001b[0;34m**\u001b[0m\u001b[0msavefig_kwargs\u001b[0m\u001b[0;34m)\u001b[0m\u001b[0;34m\u001b[0m\u001b[0;34m\u001b[0m\u001b[0m\n\u001b[0m\u001b[1;32m   1127\u001b[0m \u001b[0;34m\u001b[0m\u001b[0m\n",
            "\u001b[0;32m/usr/local/lib/python3.11/dist-packages/matplotlib/animation.py\u001b[0m in \u001b[0;36mgrab_frame\u001b[0;34m(self, **savefig_kwargs)\u001b[0m\n\u001b[1;32m    351\u001b[0m         \u001b[0;31m# Save the figure data to the sink, using the frame format and dpi.\u001b[0m\u001b[0;34m\u001b[0m\u001b[0;34m\u001b[0m\u001b[0m\n\u001b[0;32m--> 352\u001b[0;31m         self.fig.savefig(self._proc.stdin, format=self.frame_format,\n\u001b[0m\u001b[1;32m    353\u001b[0m                          dpi=self.dpi, **savefig_kwargs)\n",
            "\u001b[0;32m/usr/local/lib/python3.11/dist-packages/matplotlib/figure.py\u001b[0m in \u001b[0;36msavefig\u001b[0;34m(self, fname, transparent, **kwargs)\u001b[0m\n\u001b[1;32m   3489\u001b[0m                     \u001b[0m_recursively_make_axes_transparent\u001b[0m\u001b[0;34m(\u001b[0m\u001b[0mstack\u001b[0m\u001b[0;34m,\u001b[0m \u001b[0max\u001b[0m\u001b[0;34m)\u001b[0m\u001b[0;34m\u001b[0m\u001b[0;34m\u001b[0m\u001b[0m\n\u001b[0;32m-> 3490\u001b[0;31m             \u001b[0mself\u001b[0m\u001b[0;34m.\u001b[0m\u001b[0mcanvas\u001b[0m\u001b[0;34m.\u001b[0m\u001b[0mprint_figure\u001b[0m\u001b[0;34m(\u001b[0m\u001b[0mfname\u001b[0m\u001b[0;34m,\u001b[0m \u001b[0;34m**\u001b[0m\u001b[0mkwargs\u001b[0m\u001b[0;34m)\u001b[0m\u001b[0;34m\u001b[0m\u001b[0;34m\u001b[0m\u001b[0m\n\u001b[0m\u001b[1;32m   3491\u001b[0m \u001b[0;34m\u001b[0m\u001b[0m\n",
            "\u001b[0;32m/usr/local/lib/python3.11/dist-packages/matplotlib/backend_bases.py\u001b[0m in \u001b[0;36mprint_figure\u001b[0;34m(self, filename, dpi, facecolor, edgecolor, orientation, format, bbox_inches, pad_inches, bbox_extra_artists, backend, **kwargs)\u001b[0m\n\u001b[1;32m   2183\u001b[0m                 \u001b[0;32mwith\u001b[0m \u001b[0mcbook\u001b[0m\u001b[0;34m.\u001b[0m\u001b[0m_setattr_cm\u001b[0m\u001b[0;34m(\u001b[0m\u001b[0mself\u001b[0m\u001b[0;34m.\u001b[0m\u001b[0mfigure\u001b[0m\u001b[0;34m,\u001b[0m \u001b[0mdpi\u001b[0m\u001b[0;34m=\u001b[0m\u001b[0mdpi\u001b[0m\u001b[0;34m)\u001b[0m\u001b[0;34m:\u001b[0m\u001b[0;34m\u001b[0m\u001b[0;34m\u001b[0m\u001b[0m\n\u001b[0;32m-> 2184\u001b[0;31m                     result = print_method(\n\u001b[0m\u001b[1;32m   2185\u001b[0m                         \u001b[0mfilename\u001b[0m\u001b[0;34m,\u001b[0m\u001b[0;34m\u001b[0m\u001b[0;34m\u001b[0m\u001b[0m\n",
            "\u001b[0;32m/usr/local/lib/python3.11/dist-packages/matplotlib/backend_bases.py\u001b[0m in \u001b[0;36m<lambda>\u001b[0;34m(*args, **kwargs)\u001b[0m\n\u001b[1;32m   2039\u001b[0m             \u001b[0mskip\u001b[0m \u001b[0;34m=\u001b[0m \u001b[0moptional_kws\u001b[0m \u001b[0;34m-\u001b[0m \u001b[0;34m{\u001b[0m\u001b[0;34m*\u001b[0m\u001b[0minspect\u001b[0m\u001b[0;34m.\u001b[0m\u001b[0msignature\u001b[0m\u001b[0;34m(\u001b[0m\u001b[0mmeth\u001b[0m\u001b[0;34m)\u001b[0m\u001b[0;34m.\u001b[0m\u001b[0mparameters\u001b[0m\u001b[0;34m}\u001b[0m\u001b[0;34m\u001b[0m\u001b[0;34m\u001b[0m\u001b[0m\n\u001b[0;32m-> 2040\u001b[0;31m             print_method = functools.wraps(meth)(lambda *args, **kwargs: meth(\n\u001b[0m\u001b[1;32m   2041\u001b[0m                 *args, **{k: v for k, v in kwargs.items() if k not in skip}))\n",
            "\u001b[0;32m/usr/local/lib/python3.11/dist-packages/matplotlib/backends/backend_agg.py\u001b[0m in \u001b[0;36mprint_raw\u001b[0;34m(self, filename_or_obj, metadata)\u001b[0m\n\u001b[1;32m    416\u001b[0m             \u001b[0;32mraise\u001b[0m \u001b[0mValueError\u001b[0m\u001b[0;34m(\u001b[0m\u001b[0;34m\"metadata not supported for raw/rgba\"\u001b[0m\u001b[0;34m)\u001b[0m\u001b[0;34m\u001b[0m\u001b[0;34m\u001b[0m\u001b[0m\n\u001b[0;32m--> 417\u001b[0;31m         \u001b[0mFigureCanvasAgg\u001b[0m\u001b[0;34m.\u001b[0m\u001b[0mdraw\u001b[0m\u001b[0;34m(\u001b[0m\u001b[0mself\u001b[0m\u001b[0;34m)\u001b[0m\u001b[0;34m\u001b[0m\u001b[0;34m\u001b[0m\u001b[0m\n\u001b[0m\u001b[1;32m    418\u001b[0m         \u001b[0mrenderer\u001b[0m \u001b[0;34m=\u001b[0m \u001b[0mself\u001b[0m\u001b[0;34m.\u001b[0m\u001b[0mget_renderer\u001b[0m\u001b[0;34m(\u001b[0m\u001b[0;34m)\u001b[0m\u001b[0;34m\u001b[0m\u001b[0;34m\u001b[0m\u001b[0m\n",
            "\u001b[0;32m/usr/local/lib/python3.11/dist-packages/matplotlib/backends/backend_agg.py\u001b[0m in \u001b[0;36mdraw\u001b[0;34m(self)\u001b[0m\n\u001b[1;32m    381\u001b[0m               else nullcontext()):\n\u001b[0;32m--> 382\u001b[0;31m             \u001b[0mself\u001b[0m\u001b[0;34m.\u001b[0m\u001b[0mfigure\u001b[0m\u001b[0;34m.\u001b[0m\u001b[0mdraw\u001b[0m\u001b[0;34m(\u001b[0m\u001b[0mself\u001b[0m\u001b[0;34m.\u001b[0m\u001b[0mrenderer\u001b[0m\u001b[0;34m)\u001b[0m\u001b[0;34m\u001b[0m\u001b[0;34m\u001b[0m\u001b[0m\n\u001b[0m\u001b[1;32m    383\u001b[0m             \u001b[0;31m# A GUI class may be need to update a window using this draw, so\u001b[0m\u001b[0;34m\u001b[0m\u001b[0;34m\u001b[0m\u001b[0m\n",
            "\u001b[0;32m/usr/local/lib/python3.11/dist-packages/matplotlib/artist.py\u001b[0m in \u001b[0;36mdraw_wrapper\u001b[0;34m(artist, renderer, *args, **kwargs)\u001b[0m\n\u001b[1;32m     93\u001b[0m     \u001b[0;32mdef\u001b[0m \u001b[0mdraw_wrapper\u001b[0m\u001b[0;34m(\u001b[0m\u001b[0martist\u001b[0m\u001b[0;34m,\u001b[0m \u001b[0mrenderer\u001b[0m\u001b[0;34m,\u001b[0m \u001b[0;34m*\u001b[0m\u001b[0margs\u001b[0m\u001b[0;34m,\u001b[0m \u001b[0;34m**\u001b[0m\u001b[0mkwargs\u001b[0m\u001b[0;34m)\u001b[0m\u001b[0;34m:\u001b[0m\u001b[0;34m\u001b[0m\u001b[0;34m\u001b[0m\u001b[0m\n\u001b[0;32m---> 94\u001b[0;31m         \u001b[0mresult\u001b[0m \u001b[0;34m=\u001b[0m \u001b[0mdraw\u001b[0m\u001b[0;34m(\u001b[0m\u001b[0martist\u001b[0m\u001b[0;34m,\u001b[0m \u001b[0mrenderer\u001b[0m\u001b[0;34m,\u001b[0m \u001b[0;34m*\u001b[0m\u001b[0margs\u001b[0m\u001b[0;34m,\u001b[0m \u001b[0;34m**\u001b[0m\u001b[0mkwargs\u001b[0m\u001b[0;34m)\u001b[0m\u001b[0;34m\u001b[0m\u001b[0;34m\u001b[0m\u001b[0m\n\u001b[0m\u001b[1;32m     95\u001b[0m         \u001b[0;32mif\u001b[0m \u001b[0mrenderer\u001b[0m\u001b[0;34m.\u001b[0m\u001b[0m_rasterizing\u001b[0m\u001b[0;34m:\u001b[0m\u001b[0;34m\u001b[0m\u001b[0;34m\u001b[0m\u001b[0m\n",
            "\u001b[0;32m/usr/local/lib/python3.11/dist-packages/matplotlib/artist.py\u001b[0m in \u001b[0;36mdraw_wrapper\u001b[0;34m(artist, renderer)\u001b[0m\n\u001b[1;32m     70\u001b[0m \u001b[0;34m\u001b[0m\u001b[0m\n\u001b[0;32m---> 71\u001b[0;31m             \u001b[0;32mreturn\u001b[0m \u001b[0mdraw\u001b[0m\u001b[0;34m(\u001b[0m\u001b[0martist\u001b[0m\u001b[0;34m,\u001b[0m \u001b[0mrenderer\u001b[0m\u001b[0;34m)\u001b[0m\u001b[0;34m\u001b[0m\u001b[0;34m\u001b[0m\u001b[0m\n\u001b[0m\u001b[1;32m     72\u001b[0m         \u001b[0;32mfinally\u001b[0m\u001b[0;34m:\u001b[0m\u001b[0;34m\u001b[0m\u001b[0;34m\u001b[0m\u001b[0m\n",
            "\u001b[0;32m/usr/local/lib/python3.11/dist-packages/matplotlib/figure.py\u001b[0m in \u001b[0;36mdraw\u001b[0;34m(self, renderer)\u001b[0m\n\u001b[1;32m   3256\u001b[0m                 \u001b[0mself\u001b[0m\u001b[0;34m.\u001b[0m\u001b[0mpatch\u001b[0m\u001b[0;34m.\u001b[0m\u001b[0mdraw\u001b[0m\u001b[0;34m(\u001b[0m\u001b[0mrenderer\u001b[0m\u001b[0;34m)\u001b[0m\u001b[0;34m\u001b[0m\u001b[0;34m\u001b[0m\u001b[0m\n\u001b[0;32m-> 3257\u001b[0;31m                 mimage._draw_list_compositing_images(\n\u001b[0m\u001b[1;32m   3258\u001b[0m                     renderer, self, artists, self.suppressComposite)\n",
            "\u001b[0;32m/usr/local/lib/python3.11/dist-packages/matplotlib/image.py\u001b[0m in \u001b[0;36m_draw_list_compositing_images\u001b[0;34m(renderer, parent, artists, suppress_composite)\u001b[0m\n\u001b[1;32m    133\u001b[0m         \u001b[0;32mfor\u001b[0m \u001b[0ma\u001b[0m \u001b[0;32min\u001b[0m \u001b[0martists\u001b[0m\u001b[0;34m:\u001b[0m\u001b[0;34m\u001b[0m\u001b[0;34m\u001b[0m\u001b[0m\n\u001b[0;32m--> 134\u001b[0;31m             \u001b[0ma\u001b[0m\u001b[0;34m.\u001b[0m\u001b[0mdraw\u001b[0m\u001b[0;34m(\u001b[0m\u001b[0mrenderer\u001b[0m\u001b[0;34m)\u001b[0m\u001b[0;34m\u001b[0m\u001b[0;34m\u001b[0m\u001b[0m\n\u001b[0m\u001b[1;32m    135\u001b[0m     \u001b[0;32melse\u001b[0m\u001b[0;34m:\u001b[0m\u001b[0;34m\u001b[0m\u001b[0;34m\u001b[0m\u001b[0m\n",
            "\u001b[0;32m/usr/local/lib/python3.11/dist-packages/matplotlib/artist.py\u001b[0m in \u001b[0;36mdraw_wrapper\u001b[0;34m(artist, renderer)\u001b[0m\n\u001b[1;32m     70\u001b[0m \u001b[0;34m\u001b[0m\u001b[0m\n\u001b[0;32m---> 71\u001b[0;31m             \u001b[0;32mreturn\u001b[0m \u001b[0mdraw\u001b[0m\u001b[0;34m(\u001b[0m\u001b[0martist\u001b[0m\u001b[0;34m,\u001b[0m \u001b[0mrenderer\u001b[0m\u001b[0;34m)\u001b[0m\u001b[0;34m\u001b[0m\u001b[0;34m\u001b[0m\u001b[0m\n\u001b[0m\u001b[1;32m     72\u001b[0m         \u001b[0;32mfinally\u001b[0m\u001b[0;34m:\u001b[0m\u001b[0;34m\u001b[0m\u001b[0;34m\u001b[0m\u001b[0m\n",
            "\u001b[0;32m/usr/local/lib/python3.11/dist-packages/matplotlib/axes/_base.py\u001b[0m in \u001b[0;36mdraw\u001b[0;34m(self, renderer)\u001b[0m\n\u001b[1;32m   3180\u001b[0m \u001b[0;34m\u001b[0m\u001b[0m\n\u001b[0;32m-> 3181\u001b[0;31m         mimage._draw_list_compositing_images(\n\u001b[0m\u001b[1;32m   3182\u001b[0m             renderer, self, artists, self.get_figure(root=True).suppressComposite)\n",
            "\u001b[0;32m/usr/local/lib/python3.11/dist-packages/matplotlib/image.py\u001b[0m in \u001b[0;36m_draw_list_compositing_images\u001b[0;34m(renderer, parent, artists, suppress_composite)\u001b[0m\n\u001b[1;32m    133\u001b[0m         \u001b[0;32mfor\u001b[0m \u001b[0ma\u001b[0m \u001b[0;32min\u001b[0m \u001b[0martists\u001b[0m\u001b[0;34m:\u001b[0m\u001b[0;34m\u001b[0m\u001b[0;34m\u001b[0m\u001b[0m\n\u001b[0;32m--> 134\u001b[0;31m             \u001b[0ma\u001b[0m\u001b[0;34m.\u001b[0m\u001b[0mdraw\u001b[0m\u001b[0;34m(\u001b[0m\u001b[0mrenderer\u001b[0m\u001b[0;34m)\u001b[0m\u001b[0;34m\u001b[0m\u001b[0;34m\u001b[0m\u001b[0m\n\u001b[0m\u001b[1;32m    135\u001b[0m     \u001b[0;32melse\u001b[0m\u001b[0;34m:\u001b[0m\u001b[0;34m\u001b[0m\u001b[0;34m\u001b[0m\u001b[0m\n",
            "\u001b[0;32m/usr/local/lib/python3.11/dist-packages/matplotlib/artist.py\u001b[0m in \u001b[0;36mdraw_wrapper\u001b[0;34m(artist, renderer)\u001b[0m\n\u001b[1;32m     70\u001b[0m \u001b[0;34m\u001b[0m\u001b[0m\n\u001b[0;32m---> 71\u001b[0;31m             \u001b[0;32mreturn\u001b[0m \u001b[0mdraw\u001b[0m\u001b[0;34m(\u001b[0m\u001b[0martist\u001b[0m\u001b[0;34m,\u001b[0m \u001b[0mrenderer\u001b[0m\u001b[0;34m)\u001b[0m\u001b[0;34m\u001b[0m\u001b[0;34m\u001b[0m\u001b[0m\n\u001b[0m\u001b[1;32m     72\u001b[0m         \u001b[0;32mfinally\u001b[0m\u001b[0;34m:\u001b[0m\u001b[0;34m\u001b[0m\u001b[0;34m\u001b[0m\u001b[0m\n",
            "\u001b[0;32m/usr/local/lib/python3.11/dist-packages/matplotlib/axis.py\u001b[0m in \u001b[0;36mdraw\u001b[0;34m(self, renderer)\u001b[0m\n\u001b[1;32m   1422\u001b[0m         \u001b[0mself\u001b[0m\u001b[0;34m.\u001b[0m\u001b[0m_update_label_position\u001b[0m\u001b[0;34m(\u001b[0m\u001b[0mrenderer\u001b[0m\u001b[0;34m)\u001b[0m\u001b[0;34m\u001b[0m\u001b[0;34m\u001b[0m\u001b[0m\n\u001b[0;32m-> 1423\u001b[0;31m         \u001b[0mself\u001b[0m\u001b[0;34m.\u001b[0m\u001b[0mlabel\u001b[0m\u001b[0;34m.\u001b[0m\u001b[0mdraw\u001b[0m\u001b[0;34m(\u001b[0m\u001b[0mrenderer\u001b[0m\u001b[0;34m)\u001b[0m\u001b[0;34m\u001b[0m\u001b[0;34m\u001b[0m\u001b[0m\n\u001b[0m\u001b[1;32m   1424\u001b[0m \u001b[0;34m\u001b[0m\u001b[0m\n",
            "\u001b[0;32m/usr/local/lib/python3.11/dist-packages/matplotlib/artist.py\u001b[0m in \u001b[0;36mdraw_wrapper\u001b[0;34m(artist, renderer)\u001b[0m\n\u001b[1;32m     70\u001b[0m \u001b[0;34m\u001b[0m\u001b[0m\n\u001b[0;32m---> 71\u001b[0;31m             \u001b[0;32mreturn\u001b[0m \u001b[0mdraw\u001b[0m\u001b[0;34m(\u001b[0m\u001b[0martist\u001b[0m\u001b[0;34m,\u001b[0m \u001b[0mrenderer\u001b[0m\u001b[0;34m)\u001b[0m\u001b[0;34m\u001b[0m\u001b[0;34m\u001b[0m\u001b[0m\n\u001b[0m\u001b[1;32m     72\u001b[0m         \u001b[0;32mfinally\u001b[0m\u001b[0;34m:\u001b[0m\u001b[0;34m\u001b[0m\u001b[0;34m\u001b[0m\u001b[0m\n",
            "\u001b[0;32m/usr/local/lib/python3.11/dist-packages/matplotlib/text.py\u001b[0m in \u001b[0;36mdraw\u001b[0;34m(self, renderer)\u001b[0m\n\u001b[1;32m    807\u001b[0m                 \u001b[0;32melse\u001b[0m\u001b[0;34m:\u001b[0m\u001b[0;34m\u001b[0m\u001b[0;34m\u001b[0m\u001b[0m\n\u001b[0;32m--> 808\u001b[0;31m                     textrenderer.draw_text(gc, x, y, clean_line,\n\u001b[0m\u001b[1;32m    809\u001b[0m                                            \u001b[0mself\u001b[0m\u001b[0;34m.\u001b[0m\u001b[0m_fontproperties\u001b[0m\u001b[0;34m,\u001b[0m \u001b[0mangle\u001b[0m\u001b[0;34m,\u001b[0m\u001b[0;34m\u001b[0m\u001b[0;34m\u001b[0m\u001b[0m\n",
            "\u001b[0;32m/usr/local/lib/python3.11/dist-packages/matplotlib/backends/backend_agg.py\u001b[0m in \u001b[0;36mdraw_text\u001b[0;34m(self, gc, x, y, s, prop, angle, ismath, mtext)\u001b[0m\n\u001b[1;32m    191\u001b[0m         \u001b[0;31m# space) in the following call to draw_text_image).\u001b[0m\u001b[0;34m\u001b[0m\u001b[0;34m\u001b[0m\u001b[0m\n\u001b[0;32m--> 192\u001b[0;31m         \u001b[0mfont\u001b[0m\u001b[0;34m.\u001b[0m\u001b[0mset_text\u001b[0m\u001b[0;34m(\u001b[0m\u001b[0ms\u001b[0m\u001b[0;34m,\u001b[0m \u001b[0;36m0\u001b[0m\u001b[0;34m,\u001b[0m \u001b[0mflags\u001b[0m\u001b[0;34m=\u001b[0m\u001b[0mget_hinting_flag\u001b[0m\u001b[0;34m(\u001b[0m\u001b[0;34m)\u001b[0m\u001b[0;34m)\u001b[0m\u001b[0;34m\u001b[0m\u001b[0;34m\u001b[0m\u001b[0m\n\u001b[0m\u001b[1;32m    193\u001b[0m         font.draw_glyphs_to_bitmap(\n",
            "\u001b[0;31mKeyboardInterrupt\u001b[0m: ",
            "\nDuring handling of the above exception, another exception occurred:\n",
            "\u001b[0;31mCalledProcessError\u001b[0m                        Traceback (most recent call last)",
            "\u001b[0;32m/tmp/ipython-input-17-1377344208.py\u001b[0m in \u001b[0;36m<cell line: 0>\u001b[0;34m()\u001b[0m\n\u001b[1;32m      1\u001b[0m \u001b[0;31m# plotting raw LTD dataset (LTD is already in USDM range)\u001b[0m\u001b[0;34m\u001b[0m\u001b[0;34m\u001b[0m\u001b[0m\n\u001b[1;32m      2\u001b[0m \u001b[0manim_LTD\u001b[0m \u001b[0;34m=\u001b[0m \u001b[0manimation\u001b[0m\u001b[0;34m.\u001b[0m\u001b[0mFuncAnimation\u001b[0m\u001b[0;34m(\u001b[0m\u001b[0mfig\u001b[0m\u001b[0;34m,\u001b[0m \u001b[0;32mlambda\u001b[0m \u001b[0mi\u001b[0m\u001b[0;34m:\u001b[0m \u001b[0manimate\u001b[0m\u001b[0;34m(\u001b[0m\u001b[0mLTD\u001b[0m\u001b[0;34m,\u001b[0m \u001b[0mi\u001b[0m\u001b[0;34m)\u001b[0m\u001b[0;34m,\u001b[0m \u001b[0mframes\u001b[0m\u001b[0;34m=\u001b[0m\u001b[0mlen\u001b[0m\u001b[0;34m(\u001b[0m\u001b[0mLTD\u001b[0m\u001b[0;34m.\u001b[0m\u001b[0mtime\u001b[0m\u001b[0;34m)\u001b[0m\u001b[0;34m,\u001b[0m \u001b[0minterval\u001b[0m\u001b[0;34m=\u001b[0m\u001b[0;36m100\u001b[0m\u001b[0;34m)\u001b[0m\u001b[0;34m\u001b[0m\u001b[0;34m\u001b[0m\u001b[0m\n\u001b[0;32m----> 3\u001b[0;31m \u001b[0mHTML\u001b[0m\u001b[0;34m(\u001b[0m\u001b[0manim_LTD\u001b[0m\u001b[0;34m.\u001b[0m\u001b[0mto_html5_video\u001b[0m\u001b[0;34m(\u001b[0m\u001b[0;34m)\u001b[0m\u001b[0;34m)\u001b[0m\u001b[0;34m\u001b[0m\u001b[0;34m\u001b[0m\u001b[0m\n\u001b[0m",
            "\u001b[0;32m/usr/local/lib/python3.11/dist-packages/matplotlib/animation.py\u001b[0m in \u001b[0;36mto_html5_video\u001b[0;34m(self, embed_limit)\u001b[0m\n\u001b[1;32m   1304\u001b[0m                                 \u001b[0mbitrate\u001b[0m\u001b[0;34m=\u001b[0m\u001b[0mmpl\u001b[0m\u001b[0;34m.\u001b[0m\u001b[0mrcParams\u001b[0m\u001b[0;34m[\u001b[0m\u001b[0;34m'animation.bitrate'\u001b[0m\u001b[0;34m]\u001b[0m\u001b[0;34m,\u001b[0m\u001b[0;34m\u001b[0m\u001b[0;34m\u001b[0m\u001b[0m\n\u001b[1;32m   1305\u001b[0m                                 fps=1000. / self._interval)\n\u001b[0;32m-> 1306\u001b[0;31m                 \u001b[0mself\u001b[0m\u001b[0;34m.\u001b[0m\u001b[0msave\u001b[0m\u001b[0;34m(\u001b[0m\u001b[0mstr\u001b[0m\u001b[0;34m(\u001b[0m\u001b[0mpath\u001b[0m\u001b[0;34m)\u001b[0m\u001b[0;34m,\u001b[0m \u001b[0mwriter\u001b[0m\u001b[0;34m=\u001b[0m\u001b[0mwriter\u001b[0m\u001b[0;34m)\u001b[0m\u001b[0;34m\u001b[0m\u001b[0;34m\u001b[0m\u001b[0m\n\u001b[0m\u001b[1;32m   1307\u001b[0m                 \u001b[0;31m# Now open and base64 encode.\u001b[0m\u001b[0;34m\u001b[0m\u001b[0;34m\u001b[0m\u001b[0m\n\u001b[1;32m   1308\u001b[0m                 \u001b[0mvid64\u001b[0m \u001b[0;34m=\u001b[0m \u001b[0mbase64\u001b[0m\u001b[0;34m.\u001b[0m\u001b[0mencodebytes\u001b[0m\u001b[0;34m(\u001b[0m\u001b[0mpath\u001b[0m\u001b[0;34m.\u001b[0m\u001b[0mread_bytes\u001b[0m\u001b[0;34m(\u001b[0m\u001b[0;34m)\u001b[0m\u001b[0;34m)\u001b[0m\u001b[0;34m\u001b[0m\u001b[0;34m\u001b[0m\u001b[0m\n",
            "\u001b[0;32m/usr/local/lib/python3.11/dist-packages/matplotlib/animation.py\u001b[0m in \u001b[0;36msave\u001b[0;34m(self, filename, writer, fps, dpi, codec, bitrate, extra_args, metadata, extra_anim, savefig_kwargs, progress_callback)\u001b[0m\n\u001b[1;32m   1096\u001b[0m         \u001b[0;31m# callback a no-op; canvas.manager = None prevents resizing the GUI\u001b[0m\u001b[0;34m\u001b[0m\u001b[0;34m\u001b[0m\u001b[0m\n\u001b[1;32m   1097\u001b[0m         \u001b[0;31m# widget (both are likewise done in savefig()).\u001b[0m\u001b[0;34m\u001b[0m\u001b[0;34m\u001b[0m\u001b[0m\n\u001b[0;32m-> 1098\u001b[0;31m         with (writer.saving(self._fig, filename, dpi),\n\u001b[0m\u001b[1;32m   1099\u001b[0m               cbook._setattr_cm(self._fig.canvas, _is_saving=True, manager=None)):\n\u001b[1;32m   1100\u001b[0m             \u001b[0;32mif\u001b[0m \u001b[0;32mnot\u001b[0m \u001b[0mwriter\u001b[0m\u001b[0;34m.\u001b[0m\u001b[0m_supports_transparency\u001b[0m\u001b[0;34m(\u001b[0m\u001b[0;34m)\u001b[0m\u001b[0;34m:\u001b[0m\u001b[0;34m\u001b[0m\u001b[0;34m\u001b[0m\u001b[0m\n",
            "\u001b[0;32m/usr/lib/python3.11/contextlib.py\u001b[0m in \u001b[0;36m__exit__\u001b[0;34m(self, typ, value, traceback)\u001b[0m\n\u001b[1;32m    156\u001b[0m                 \u001b[0mvalue\u001b[0m \u001b[0;34m=\u001b[0m \u001b[0mtyp\u001b[0m\u001b[0;34m(\u001b[0m\u001b[0;34m)\u001b[0m\u001b[0;34m\u001b[0m\u001b[0;34m\u001b[0m\u001b[0m\n\u001b[1;32m    157\u001b[0m             \u001b[0;32mtry\u001b[0m\u001b[0;34m:\u001b[0m\u001b[0;34m\u001b[0m\u001b[0;34m\u001b[0m\u001b[0m\n\u001b[0;32m--> 158\u001b[0;31m                 \u001b[0mself\u001b[0m\u001b[0;34m.\u001b[0m\u001b[0mgen\u001b[0m\u001b[0;34m.\u001b[0m\u001b[0mthrow\u001b[0m\u001b[0;34m(\u001b[0m\u001b[0mtyp\u001b[0m\u001b[0;34m,\u001b[0m \u001b[0mvalue\u001b[0m\u001b[0;34m,\u001b[0m \u001b[0mtraceback\u001b[0m\u001b[0;34m)\u001b[0m\u001b[0;34m\u001b[0m\u001b[0;34m\u001b[0m\u001b[0m\n\u001b[0m\u001b[1;32m    159\u001b[0m             \u001b[0;32mexcept\u001b[0m \u001b[0mStopIteration\u001b[0m \u001b[0;32mas\u001b[0m \u001b[0mexc\u001b[0m\u001b[0;34m:\u001b[0m\u001b[0;34m\u001b[0m\u001b[0;34m\u001b[0m\u001b[0m\n\u001b[1;32m    160\u001b[0m                 \u001b[0;31m# Suppress StopIteration *unless* it's the same exception that\u001b[0m\u001b[0;34m\u001b[0m\u001b[0;34m\u001b[0m\u001b[0m\n",
            "\u001b[0;32m/usr/local/lib/python3.11/dist-packages/matplotlib/animation.py\u001b[0m in \u001b[0;36msaving\u001b[0;34m(self, fig, outfile, dpi, *args, **kwargs)\u001b[0m\n\u001b[1;32m    224\u001b[0m                 \u001b[0;32myield\u001b[0m \u001b[0mself\u001b[0m\u001b[0;34m\u001b[0m\u001b[0;34m\u001b[0m\u001b[0m\n\u001b[1;32m    225\u001b[0m             \u001b[0;32mfinally\u001b[0m\u001b[0;34m:\u001b[0m\u001b[0;34m\u001b[0m\u001b[0;34m\u001b[0m\u001b[0m\n\u001b[0;32m--> 226\u001b[0;31m                 \u001b[0mself\u001b[0m\u001b[0;34m.\u001b[0m\u001b[0mfinish\u001b[0m\u001b[0;34m(\u001b[0m\u001b[0;34m)\u001b[0m\u001b[0;34m\u001b[0m\u001b[0;34m\u001b[0m\u001b[0m\n\u001b[0m\u001b[1;32m    227\u001b[0m \u001b[0;34m\u001b[0m\u001b[0m\n\u001b[1;32m    228\u001b[0m \u001b[0;34m\u001b[0m\u001b[0m\n",
            "\u001b[0;32m/usr/local/lib/python3.11/dist-packages/matplotlib/animation.py\u001b[0m in \u001b[0;36mfinish\u001b[0;34m(self)\u001b[0m\n\u001b[1;32m    339\u001b[0m                 \"MovieWriter stderr:\\n%s\", err)\n\u001b[1;32m    340\u001b[0m         \u001b[0;32mif\u001b[0m \u001b[0mself\u001b[0m\u001b[0;34m.\u001b[0m\u001b[0m_proc\u001b[0m\u001b[0;34m.\u001b[0m\u001b[0mreturncode\u001b[0m\u001b[0;34m:\u001b[0m\u001b[0;34m\u001b[0m\u001b[0;34m\u001b[0m\u001b[0m\n\u001b[0;32m--> 341\u001b[0;31m             raise subprocess.CalledProcessError(\n\u001b[0m\u001b[1;32m    342\u001b[0m                 self._proc.returncode, self._proc.args, out, err)\n\u001b[1;32m    343\u001b[0m \u001b[0;34m\u001b[0m\u001b[0m\n",
            "\u001b[0;31mCalledProcessError\u001b[0m: Command '['ffmpeg', '-f', 'rawvideo', '-vcodec', 'rawvideo', '-s', '640x480', '-pix_fmt', 'rgba', '-framerate', '10.0', '-loglevel', 'error', '-i', 'pipe:', '-vcodec', 'h264', '-pix_fmt', 'yuv420p', '-y', '/tmp/tmpzwagqaru/temp.m4v']' returned non-zero exit status 255."
          ]
        }
      ]
    }
  ]
}