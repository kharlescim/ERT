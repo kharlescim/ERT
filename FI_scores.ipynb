{
  "nbformat": 4,
  "nbformat_minor": 0,
  "metadata": {
    "colab": {
      "provenance": [],
      "gpuType": "V28",
      "include_colab_link": true
    },
    "kernelspec": {
      "name": "python3",
      "display_name": "Python 3"
    },
    "language_info": {
      "name": "python"
    },
    "accelerator": "TPU"
  },
  "cells": [
    {
      "cell_type": "markdown",
      "metadata": {
        "id": "view-in-github",
        "colab_type": "text"
      },
      "source": [
        "<a href=\"https://colab.research.google.com/github/kharlescim/ERT_Project/blob/main/FI_scores.ipynb\" target=\"_parent\"><img src=\"https://colab.research.google.com/assets/colab-badge.svg\" alt=\"Open In Colab\"/></a>"
      ]
    },
    {
      "cell_type": "markdown",
      "source": [
        "quick code to test which features are most informative for USDM"
      ],
      "metadata": {
        "id": "W2N5Gh-fl17B"
      }
    },
    {
      "cell_type": "code",
      "execution_count": 1,
      "metadata": {
        "colab": {
          "base_uri": "https://localhost:8080/"
        },
        "id": "k0DD9oG3dwxP",
        "outputId": "dbca5e26-c73d-4391-92be-5ece97f6a23e"
      },
      "outputs": [
        {
          "output_type": "stream",
          "name": "stdout",
          "text": [
            "Collecting xarray\n",
            "  Downloading xarray-2025.7.1-py3-none-any.whl.metadata (12 kB)\n",
            "Collecting netCDF4\n",
            "  Downloading netCDF4-1.7.2-cp311-cp311-manylinux_2_17_x86_64.manylinux2014_x86_64.whl.metadata (1.8 kB)\n",
            "Requirement already satisfied: numpy>=1.26 in /usr/local/lib/python3.11/dist-packages (from xarray) (2.0.2)\n",
            "Requirement already satisfied: packaging>=24.1 in /usr/local/lib/python3.11/dist-packages (from xarray) (25.0)\n",
            "Requirement already satisfied: pandas>=2.2 in /usr/local/lib/python3.11/dist-packages (from xarray) (2.2.2)\n",
            "Collecting cftime (from netCDF4)\n",
            "  Downloading cftime-1.6.4.post1-cp311-cp311-manylinux_2_17_x86_64.manylinux2014_x86_64.whl.metadata (8.7 kB)\n",
            "Requirement already satisfied: certifi in /usr/local/lib/python3.11/dist-packages (from netCDF4) (2025.7.14)\n",
            "Requirement already satisfied: python-dateutil>=2.8.2 in /usr/local/lib/python3.11/dist-packages (from pandas>=2.2->xarray) (2.9.0.post0)\n",
            "Requirement already satisfied: pytz>=2020.1 in /usr/local/lib/python3.11/dist-packages (from pandas>=2.2->xarray) (2025.2)\n",
            "Requirement already satisfied: tzdata>=2022.7 in /usr/local/lib/python3.11/dist-packages (from pandas>=2.2->xarray) (2025.2)\n",
            "Requirement already satisfied: six>=1.5 in /usr/local/lib/python3.11/dist-packages (from python-dateutil>=2.8.2->pandas>=2.2->xarray) (1.17.0)\n",
            "Downloading xarray-2025.7.1-py3-none-any.whl (1.3 MB)\n",
            "\u001b[2K   \u001b[90m━━━━━━━━━━━━━━━━━━━━━━━━━━━━━━━━━━━━━━━━\u001b[0m \u001b[32m1.3/1.3 MB\u001b[0m \u001b[31m18.6 MB/s\u001b[0m eta \u001b[36m0:00:00\u001b[0m\n",
            "\u001b[?25hDownloading netCDF4-1.7.2-cp311-cp311-manylinux_2_17_x86_64.manylinux2014_x86_64.whl (9.3 MB)\n",
            "\u001b[2K   \u001b[90m━━━━━━━━━━━━━━━━━━━━━━━━━━━━━━━━━━━━━━━━\u001b[0m \u001b[32m9.3/9.3 MB\u001b[0m \u001b[31m121.0 MB/s\u001b[0m eta \u001b[36m0:00:00\u001b[0m\n",
            "\u001b[?25hDownloading cftime-1.6.4.post1-cp311-cp311-manylinux_2_17_x86_64.manylinux2014_x86_64.whl (1.4 MB)\n",
            "\u001b[2K   \u001b[90m━━━━━━━━━━━━━━━━━━━━━━━━━━━━━━━━━━━━━━━━\u001b[0m \u001b[32m1.4/1.4 MB\u001b[0m \u001b[31m66.2 MB/s\u001b[0m eta \u001b[36m0:00:00\u001b[0m\n",
            "\u001b[?25hInstalling collected packages: cftime, netCDF4, xarray\n",
            "Successfully installed cftime-1.6.4.post1 netCDF4-1.7.2 xarray-2025.7.1\n",
            "Collecting bottleneck\n",
            "  Downloading bottleneck-1.5.0-cp311-cp311-manylinux_2_5_x86_64.manylinux1_x86_64.manylinux_2_17_x86_64.manylinux2014_x86_64.whl.metadata (8.1 kB)\n",
            "Requirement already satisfied: numpy in /usr/local/lib/python3.11/dist-packages (from bottleneck) (2.0.2)\n",
            "Downloading bottleneck-1.5.0-cp311-cp311-manylinux_2_5_x86_64.manylinux1_x86_64.manylinux_2_17_x86_64.manylinux2014_x86_64.whl (361 kB)\n",
            "\u001b[2K   \u001b[90m━━━━━━━━━━━━━━━━━━━━━━━━━━━━━━━━━━━━━━━━\u001b[0m \u001b[32m361.2/361.2 kB\u001b[0m \u001b[31m6.6 MB/s\u001b[0m eta \u001b[36m0:00:00\u001b[0m\n",
            "\u001b[?25hInstalling collected packages: bottleneck\n",
            "Successfully installed bottleneck-1.5.0\n"
          ]
        }
      ],
      "source": [
        "!pip install xarray netCDF4\n",
        "%pip install bottleneck"
      ]
    },
    {
      "cell_type": "code",
      "source": [
        "\n",
        "import pandas as pd\n",
        "from sklearn.utils import class_weight\n",
        "from sklearn.metrics import classification_report\n",
        "import collections\n",
        "\n",
        "import xarray as xr\n",
        "import numpy as np\n",
        "\n",
        "usdm_ds = xr.open_dataset('USDM05_2000_2024.nc')\n",
        "spei_ds = xr.open_dataset('spei_obs_3D.nc')\n",
        "obs_ds = xr.open_dataset('obs.nc')\n",
        "\n",
        "USDM = usdm_ds['USDM']\n",
        "\n",
        "# Creating new time coordinate\n",
        "weekly_time = usdm_ds.time.values\n",
        "\n",
        "# Converting to weekly (method = linear)\n",
        "spei_weekly = spei_ds.interp(time=weekly_time, method=\"linear\")\n",
        "obs_weekly = obs_ds.interp(time=weekly_time, method=\"linear\")\n",
        "\n",
        "# Function to convert raw values to percentiles\n",
        "# missing values = -999 in obs - might need to alter for proper percentile (7-4)\n",
        "def to_percentile(ds, dim='time', missing_val = -999.0):\n",
        "\n",
        "    valid = ds.where(ds != missing_val)\n",
        "    # Convert each grid point's time series to percentile values.\n",
        "    return valid.rank(dim=dim, pct=True)\n",
        "\n",
        "percentiles_spei = to_percentile(spei_weekly)\n",
        "percentiles_obs = to_percentile(obs_weekly)\n",
        "\n",
        "# ens = 1, so safe to ignore it from dataset\n",
        "# testing flattening out entire dataset\n",
        "spei_df = percentiles_spei.to_dataframe().reset_index()\n",
        "usdm_df = USDM.to_dataframe().reset_index()\n",
        "obs_df = (percentiles_obs.to_dataframe().reset_index()).drop(columns=['ens'])\n",
        "merged_df = pd.merge(spei_df, obs_df, on=['time', 'lat', 'lon'], how='inner')\n",
        "merged_df = pd.merge(merged_df, usdm_df, on=['time', 'lat', 'lon'], how='inner')\n",
        "\n",
        "# cleaning up NaN entries\n",
        "df = merged_df.dropna().copy()\n",
        "\n",
        "# changing -1 classification to 5 to work with featurespace\n",
        "df[\"USDM\"] = df[\"USDM\"].replace(-1, 5)\n",
        "\n",
        "from sklearn.feature_selection import mutual_info_classif\n",
        "from sklearn.preprocessing import MinMaxScaler\n",
        "\n",
        "\n",
        "# Extract features and target\n",
        "X = df.drop(columns=[\"USDM\", \"time\", \"lat\", \"lon\"])\n",
        "y = df[\"USDM\"]\n",
        "\n",
        "# Scale inputs to [0, 1] if needed (helps MI estimator)\n",
        "X_scaled = pd.DataFrame(MinMaxScaler().fit_transform(X), columns=X.columns)\n",
        "\n",
        "# Compute MI\n",
        "mi_scores = mutual_info_classif(X_scaled, y, discrete_features=False, random_state=42)\n",
        "\n",
        "from sklearn.metrics import mutual_info_score\n",
        "from scipy.stats import entropy\n",
        "\n",
        "# Calculate entropy of the target\n",
        "target_probs = df[\"USDM\"].value_counts(normalize=True).values\n",
        "H_y = entropy(target_probs, base=2)  # bits\n",
        "\n",
        "fi_scores = mi_scores / H_y\n",
        "\n",
        "for name, fi in zip(X.columns, fi_scores):\n",
        "    print(f\"{name}: FI = {fi:.4f}\")\n",
        "\n"
      ],
      "metadata": {
        "colab": {
          "base_uri": "https://localhost:8080/"
        },
        "id": "jt-5NmDAd1tb",
        "outputId": "71d33a3a-4831-4209-959b-2aeb607049f7"
      },
      "execution_count": 3,
      "outputs": [
        {
          "output_type": "stream",
          "name": "stdout",
          "text": [
            "SPEI1: FI = 0.0239\n",
            "SPEI3: FI = 0.0592\n",
            "SPEI6: FI = 0.0778\n",
            "SPEI12: FI = 0.0812\n",
            "SPEI24: FI = 0.0573\n",
            "SPEI60: FI = 0.0231\n",
            "SPEI2: FI = 0.0451\n",
            "SPEI9: FI = 0.0829\n",
            "SPEI36: FI = 0.0438\n",
            "SPEI48: FI = 0.0320\n",
            "SPEI72: FI = 0.0206\n",
            "SPI1: FI = 0.0016\n",
            "SPI3: FI = 0.0284\n",
            "SPI6: FI = 0.0602\n",
            "SPI9: FI = 0.0713\n",
            "SPI12: FI = 0.0745\n",
            "SPI24: FI = 0.0519\n",
            "SPI60: FI = 0.0166\n",
            "SMP1: FI = 0.0633\n",
            "SMP3: FI = 0.0779\n",
            "SMP6: FI = 0.0690\n",
            "SMP9: FI = 0.0581\n",
            "SMP12: FI = 0.0480\n",
            "SMP24: FI = 0.0263\n",
            "SMP60: FI = 0.0093\n",
            "SRI1: FI = 0.0332\n",
            "SRI3: FI = 0.0593\n",
            "SRI6: FI = 0.0635\n",
            "SRI9: FI = 0.0598\n",
            "SRI12: FI = 0.0536\n",
            "SRI24: FI = 0.0282\n",
            "SRI60: FI = 0.0064\n"
          ]
        }
      ]
    },
    {
      "cell_type": "code",
      "source": [
        "fi_df = (\n",
        "    pd.DataFrame({'feature': X.columns, 'fi': fi_scores})\n",
        "      .sort_values('fi', ascending=False)      # highest first\n",
        "      .reset_index(drop=True)\n",
        ")\n",
        "\n",
        "print(fi_df)"
      ],
      "metadata": {
        "colab": {
          "base_uri": "https://localhost:8080/"
        },
        "id": "YDI9iSTimR8Q",
        "outputId": "ca94d804-f4af-4c92-b627-739a8bd8776d"
      },
      "execution_count": 5,
      "outputs": [
        {
          "output_type": "stream",
          "name": "stdout",
          "text": [
            "   feature        fi\n",
            "0    SPEI9  0.082912\n",
            "1   SPEI12  0.081244\n",
            "2     SMP3  0.077915\n",
            "3    SPEI6  0.077818\n",
            "4    SPI12  0.074513\n",
            "5     SPI9  0.071336\n",
            "6     SMP6  0.069040\n",
            "7     SRI6  0.063462\n",
            "8     SMP1  0.063260\n",
            "9     SPI6  0.060166\n",
            "10    SRI9  0.059781\n",
            "11    SRI3  0.059325\n",
            "12   SPEI3  0.059228\n",
            "13    SMP9  0.058059\n",
            "14  SPEI24  0.057324\n",
            "15   SRI12  0.053650\n",
            "16   SPI24  0.051876\n",
            "17   SMP12  0.048050\n",
            "18   SPEI2  0.045057\n",
            "19  SPEI36  0.043776\n",
            "20    SRI1  0.033166\n",
            "21  SPEI48  0.031953\n",
            "22    SPI3  0.028436\n",
            "23   SRI24  0.028221\n",
            "24   SMP24  0.026305\n",
            "25   SPEI1  0.023884\n",
            "26  SPEI60  0.023054\n",
            "27  SPEI72  0.020588\n",
            "28   SPI60  0.016559\n",
            "29   SMP60  0.009324\n",
            "30   SRI60  0.006359\n",
            "31    SPI1  0.001580\n"
          ]
        }
      ]
    }
  ]
}